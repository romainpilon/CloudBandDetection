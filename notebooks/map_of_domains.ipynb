{
 "cells": [
  {
   "cell_type": "markdown",
   "id": "a68e52f2",
   "metadata": {},
   "source": [
    "### This script creates a wolrd map woith the four domains for detecting tropical-extratropical cloud bands"
   ]
  },
  {
   "cell_type": "markdown",
   "id": "30fa41fc",
   "metadata": {},
   "source": [
    "#### Importation of appropriate packages"
   ]
  },
  {
   "cell_type": "code",
   "execution_count": 3,
   "id": "f1cbd463",
   "metadata": {},
   "outputs": [],
   "source": [
    "import os, sys\n",
    "import warnings\n",
    "\n",
    "import cartopy.crs as ccrs\n",
    "import cartopy.feature as cfeature\n",
    "from cartopy.mpl.ticker import LongitudeFormatter, LatitudeFormatter\n",
    "import matplotlib.pyplot as plt\n",
    "import matplotlib as mpl\n",
    "from matplotlib.ticker import MultipleLocator\n",
    "import numpy as np\n",
    "\n",
    "warnings.filterwarnings('ignore')\n",
    "\n",
    "\n",
    "dir_package = \"../\"\n",
    "sys.path.insert(0, os.path.join(dir_package, \"src/cloudbanddetection\"))\n",
    "from figure_tools import set_fontsize"
   ]
  },
  {
   "cell_type": "code",
   "execution_count": null,
   "id": "3dfe565c",
   "metadata": {},
   "outputs": [],
   "source": [
    "def get_cmap(n, name=\"viridis\"):\n",
    "    \"\"\"Returns a function that maps each index in 0, 1, ..., n-1 to a distinct\n",
    "    RGB color; the keyword argument name must be a standard mpl colormap name.\"\"\"\n",
    "    return mpl.cm.get_cmap(name, n) "
   ]
  },
  {
   "attachments": {},
   "cell_type": "markdown",
   "id": "c6d6d369",
   "metadata": {},
   "source": [
    "#### Method to transform the coordinates of the locations onto a choosen projection"
   ]
  },
  {
   "cell_type": "code",
   "execution_count": null,
   "id": "22bd7dfd",
   "metadata": {},
   "outputs": [],
   "source": [
    "def define_box(lat1, lat2, lon1, lon2, proj) -> tuple:\n",
    "    geodetic = ccrs.Geodetic()\n",
    "    lon1_t, lat1_t = proj.transform_point(lon1, lat1, geodetic)\n",
    "    lon2_t, lat2_t = proj.transform_point(lon1, lat2, geodetic)\n",
    "    lon3_t, lat3_t = proj.transform_point(lon2, lat2, geodetic)\n",
    "    lon4_t, lat4_t = proj.transform_point(lon2, lat1, geodetic)\n",
    "    return lat1_t, lat2_t, lat3_t, lat4_t, lon1_t, lon2_t, lon3_t, lon4_t"
   ]
  },
  {
   "cell_type": "markdown",
   "id": "0becb454",
   "metadata": {},
   "source": [
    "#### Set coordinates (and info) of corners for each domain"
   ]
  },
  {
   "cell_type": "code",
   "execution_count": null,
   "id": "eed619ed",
   "metadata": {},
   "outputs": [],
   "source": [
    "domains = dict(\n",
    "        sop={\"latlon\": (5, -50, 130, -70), \"name\": \"southpacific\", \"ls\":\"solid\", \"lw\":2},\n",
    "        nop={\"latlon\": (-5, 50, 115, -95), \"name\": \"northpacific\", \"ls\":\"solid\", \"lw\":2},\n",
    "        sio={\"latlon\": (-10, -50, 0, 115), \"name\": \"southindianocean\", \"ls\":\"solid\", \"lw\":2},\n",
    "        sat1={\"latlon\": (-10, -50, -80, 359.9999999999), \"name\": \"southatlantic\", \"ls\":\"dashed\", \"lw\":1}, # cross the edge of the map\n",
    "        sat2={\"latlon\": (-10, -50, 0, 20), \"name\": \"southatlantic\", \"ls\":\"dashed\", \"lw\":1},\n",
    "    )"
   ]
  },
  {
   "attachments": {},
   "cell_type": "markdown",
   "id": "41e49c5a",
   "metadata": {},
   "source": [
    "#### Creation of the figure showing the domains"
   ]
  },
  {
   "cell_type": "code",
   "execution_count": null,
   "id": "d64b9beb",
   "metadata": {},
   "outputs": [],
   "source": [
    "set_fontsize(size=17)\n",
    "fig, ax = plt.subplots(1, 1, subplot_kw={\"projection\": ccrs.PlateCarree(central_longitude=180)}, figsize=(10, 8))\n",
    "ax.set_yticks(np.arange(-90, 110, 20), crs=ccrs.PlateCarree())\n",
    "ax.set_yticks(np.arange(-80, 120, 40), crs=ccrs.PlateCarree())\n",
    "ax.yaxis.set_minor_locator(MultipleLocator(10))\n",
    "ax.yaxis.set_major_formatter(LatitudeFormatter(degree_symbol=\"\"))\n",
    "ax.set_xticks([0, 60, 120, 180, 240, 300, 359.9999999999], crs=ccrs.PlateCarree())\n",
    "ax.xaxis.set_minor_locator(MultipleLocator(10))\n",
    "ax.xaxis.set_major_formatter(LongitudeFormatter(zero_direction_label=False, degree_symbol=\"\"))\n",
    "#\n",
    "cmap = get_cmap(len(domains)-1)\n",
    "#\n",
    "ax.add_feature(cfeature.COASTLINE)\n",
    "platecarree = ccrs.PlateCarree(central_longitude=180)\n",
    "\n",
    "for i, (key, value) in enumerate(domains.items()):\n",
    "        lat1, lat2, lon1, lon2 = value['latlon']\n",
    "        lat1_t, lat2_t, lat3_t, lat4_t, lon1_t, lon2_t, lon3_t, lon4_t = define_box(\n",
    "            lat1, lat2, lon1, lon2, proj=platecarree\n",
    "        )\n",
    "        ax.plot([lon1_t, lon2_t], [lat1_t, lat2_t], color=cmap(i), linewidth=value[\"lw\"], ls=value[\"ls\"], transform=platecarree)\n",
    "        ax.plot([lon2_t, lon3_t], [lat2_t, lat3_t], color=cmap(i), linewidth=value[\"lw\"], ls=value[\"ls\"], transform=platecarree)\n",
    "        ax.plot([lon4_t, lon3_t], [lat4_t, lat3_t], color=cmap(i), linewidth=value[\"lw\"], ls=value[\"ls\"], transform=platecarree)\n",
    "        ax.plot([lon1_t, lon4_t], [lat1_t, lat4_t], color=cmap(i), linewidth=value[\"lw\"], ls=value[\"ls\"], transform=platecarree)\n",
    "        if value[\"name\"] == \"southindianocean\":\n",
    "            ax.plot([lon1_t, lon2_t], [lat1_t, lat2_t], color=cmap(3), linewidth=value[\"lw\"], ls=value[\"ls\"], transform=platecarree)\n",
    "            ax.plot([lon2_t, lon3_t], [lat2_t, lat3_t], color=cmap(3), linewidth=value[\"lw\"], ls=value[\"ls\"], transform=platecarree)\n",
    "            ax.plot([lon4_t, lon3_t], [lat4_t, lat3_t], color=cmap(3), linewidth=value[\"lw\"], ls=value[\"ls\"], transform=platecarree)\n",
    "            ax.plot([lon1_t, lon4_t], [lat1_t, lat4_t], color=cmap(3), linewidth=value[\"lw\"], ls=value[\"ls\"], transform=platecarree)\n",
    "        elif value[\"name\"] == \"southatlantic\":\n",
    "            ax.plot([lon1_t, lon2_t], [lat1_t, lat2_t], color=cmap(2), linewidth=value[\"lw\"], ls=value[\"ls\"], transform=platecarree)\n",
    "            ax.plot([lon2_t, lon3_t], [lat2_t, lat3_t], color=cmap(2), linewidth=value[\"lw\"], ls=value[\"ls\"], transform=platecarree)\n",
    "            ax.plot([lon4_t, lon3_t], [lat4_t, lat3_t], color=cmap(2), linewidth=value[\"lw\"], ls=value[\"ls\"], transform=platecarree)    \n",
    "            ax.plot([lon1_t, lon4_t], [lat1_t, lat4_t], color=cmap(2), linewidth=value[\"lw\"], ls=value[\"ls\"], transform=platecarree)\n",
    "\n",
    "ax.gridlines(draw_labels=False, alpha=0.5)\n",
    "\n"
   ]
  }
 ],
 "metadata": {
  "kernelspec": {
   "display_name": "env_test",
   "language": "python",
   "name": "python3"
  },
  "language_info": {
   "codemirror_mode": {
    "name": "ipython",
    "version": 3
   },
   "file_extension": ".py",
   "mimetype": "text/x-python",
   "name": "python",
   "nbconvert_exporter": "python",
   "pygments_lexer": "ipython3",
   "version": "3.11.0"
  }
 },
 "nbformat": 4,
 "nbformat_minor": 5
}
