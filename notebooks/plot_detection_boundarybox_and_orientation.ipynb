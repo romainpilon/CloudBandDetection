{
 "cells": [
  {
   "attachments": {},
   "cell_type": "markdown",
   "id": "22a18205",
   "metadata": {},
   "source": [
    "Detect possible cloud bands on 24 February 2021 using ERA5 3 hourly olr data, and create a map showing the orientation of the cloud band needed for filtering cloud bands. The cloud bands are the ones from the `plot_inheritance_tracking` notebook."
   ]
  },
  {
   "cell_type": "code",
   "execution_count": 1,
   "id": "bff03cb0",
   "metadata": {},
   "outputs": [],
   "source": [
    "import numpy as np\n",
    "import os\n",
    "import warnings\n",
    "warnings.filterwarnings('ignore')\n",
    "\n",
    "from cloudbandpy.load_driver import run_load_data\n",
    "from cloudbandpy.cb_detection import detection_workflow\n",
    "from cloudbandpy.figure_tools import plot_bbox_around_blobs\n",
    "from cloudbandpy.io_utilities import load_ymlfile, add_startend_datetime2config"
   ]
  },
  {
   "attachments": {},
   "cell_type": "markdown",
   "id": "75658889",
   "metadata": {},
   "source": [
    "Load configuration file and make adjustements for this test case"
   ]
  },
  {
   "cell_type": "code",
   "execution_count": 2,
   "id": "6dbbad28",
   "metadata": {},
   "outputs": [
    {
     "name": "stderr",
     "output_type": "stream",
     "text": [
      "2023-05-08 15:01:39,244 - io_utilities.load_ymlfile - INFO: Configuration file loaded\n"
     ]
    }
   ],
   "source": [
    "config_file = \"../config/config_cbworkflow_southPacific.yml\"\n",
    "config = load_ymlfile(config_file, isconfigfile=True)\n",
    "config_event = config.copy()\n",
    "# Changing configs to adapt to this particular example\n",
    "config_event[\"startdate\"] = \"20210224.00\"\n",
    "config_event[\"enddate\"] = \"20210224.00\"\n",
    "# update datetime dates from config file\n",
    "add_startend_datetime2config(config_event)\n",
    "dirdata= \"../data/\"\n",
    "config_event[\"clouddata_path\"] = os.path.join(\"../data\")\n",
    "config_event[\"parameters_file\"] = os.path.join(\"../parameters/parameters_southhemisphere.yml\")\n",
    "# No need to save any files\n",
    "config_event[\"saved_dirpath\"] = \"\"\n",
    "config_event[\"save_dailyvar\"] = False\n",
    "config_event[\"save_listcloudbands\"] = False"
   ]
  },
  {
   "attachments": {},
   "cell_type": "markdown",
   "id": "b7d233e9",
   "metadata": {},
   "source": [
    "Load ERA5 data and get its resolution, and load parameters file. The ERA5 file contains OLR data from 01.01.2021 to 30.05.2021."
   ]
  },
  {
   "cell_type": "code",
   "execution_count": 3,
   "id": "3d42cc6a",
   "metadata": {},
   "outputs": [
    {
     "name": "stderr",
     "output_type": "stream",
     "text": [
      "2023-05-08 15:01:39,260 - load_driver.run_load_data - INFO: Loading data and parameters \n",
      "2023-05-08 15:01:39,261 - io_utilities.load_ymlfile - INFO: Parameters file loaded\n",
      "2023-05-08 15:01:39,262 - io_utilities.load_dataset - INFO: Loading dataset from ../data\n",
      "2023-05-08 15:01:39,262 - io_utilities.load_dataset - INFO: Loading 2021 --> 2021\n",
      "2023-05-08 15:01:39,999 - io_utilities.get_variable_lonlat_from_domain - INFO: Subsetting dataset on domain done\n",
      "2023-05-08 15:01:40,008 - io_utilities.make_daily_average - INFO: Computation of daily average\n",
      "2023-05-08 15:01:40,030 - io_utilities.make_daily_average - INFO: Computation of daily average done\n",
      "2023-05-08 15:01:40,033 - io_utilities.load_dataset - INFO: Dataset loaded\n"
     ]
    },
    {
     "name": "stdout",
     "output_type": "stream",
     "text": [
      "DatetimeIndex(['2021-02-24'], dtype='datetime64[ns]', freq='D')\n"
     ]
    }
   ],
   "source": [
    "olr2process, parameters, listofdates, lats, lons, resolution = run_load_data(config_event)\n",
    "print(listofdates)"
   ]
  },
  {
   "attachments": {},
   "cell_type": "markdown",
   "id": "53e3ee03",
   "metadata": {},
   "source": [
    "Run cloud band detection"
   ]
  },
  {
   "cell_type": "code",
   "execution_count": 4,
   "id": "a89153e8",
   "metadata": {},
   "outputs": [
    {
     "name": "stderr",
     "output_type": "stream",
     "text": [
      "2023-05-08 15:01:40,061 - cb_detection.detection_workflow - INFO: Cloud band detection in progress\n",
      "2023-05-08 15:01:40,069 - cb_detection.detection_workflow - INFO: Cloud band detection done\n"
     ]
    }
   ],
   "source": [
    "(\n",
    "        _,\n",
    "        _,\n",
    "        _,\n",
    "        labelled_candidates,\n",
    "        _,\n",
    "        _,\n",
    "    ) = detection_workflow(\n",
    "        var2process=olr2process,\n",
    "        parameters=parameters,\n",
    "        latitudes=lats,\n",
    "        longitudes=lons,\n",
    "        resolution=resolution,\n",
    "        listofdates=listofdates,\n",
    "        config=config,\n",
    "    )"
   ]
  },
  {
   "attachments": {},
   "cell_type": "markdown",
   "id": "cd405baa",
   "metadata": {},
   "source": [
    "#### Create the series of maps which show the evolution of cloud bands over time over the South Pacific domain"
   ]
  },
  {
   "cell_type": "code",
   "execution_count": 5,
   "id": "81cf75b6",
   "metadata": {},
   "outputs": [
    {
     "data": {
      "image/png": "[encoded data removed]",
      "text/plain": [
       "<Figure size 640x480 with 1 Axes>"
      ]
     },
     "metadata": {},
     "output_type": "display_data"
    }
   ],
   "source": [
    "plot_bbox_around_blobs(labelled_candidates[0], date=listofdates[0], config=config, show=True, save=False)"
   ]
  }
 ],
 "metadata": {
  "kernelspec": {
   "display_name": "Python 3 (ipykernel)",
   "language": "python",
   "name": "python3"
  },
  "language_info": {
   "codemirror_mode": {
    "name": "ipython",
    "version": 3
   },
   "file_extension": ".py",
   "mimetype": "text/x-python",
   "name": "python",
   "nbconvert_exporter": "python",
   "pygments_lexer": "ipython3",
   "version": "3.10.8"
  }
 },
 "nbformat": 4,
 "nbformat_minor": 5
}
