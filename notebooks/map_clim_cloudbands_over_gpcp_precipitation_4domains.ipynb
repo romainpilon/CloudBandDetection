{
 "cells": [
  {
   "attachments": {},
   "cell_type": "markdown",
   "metadata": {},
   "source": [
    "### This script allows to create a map of the spatial distribution of precipitation averaged over 1983 to 2019 overlaid by cloud band days per year, over the South Pacific."
   ]
  },
  {
   "attachments": {},
   "cell_type": "markdown",
   "metadata": {},
   "source": [
    "Before running this script, ensure that you have extracted the cloud bands and have the cloud band files ready. Edit config/config_analysis.yml as needed (eg: data location)"
   ]
  },
  {
   "attachments": {},
   "cell_type": "markdown",
   "metadata": {},
   "source": [
    "Acknowledgement: the work performed was done by using data from the Global Precipitation Climatology Project and from ERA5."
   ]
  },
  {
   "cell_type": "code",
   "execution_count": null,
   "metadata": {},
   "outputs": [],
   "source": [
    "# Imports\n",
    "\n",
    "import matplotlib.pyplot as plt\n",
    "import matplotlib.ticker as mticker\n",
    "from matplotlib.cm import get_cmap\n",
    "from netCDF4 import Dataset\n",
    "import numpy as np\n",
    "import os\n",
    "\n",
    "import cartopy.crs as ccrs\n",
    "import cartopy.util as cutil\n",
    "from cartopy.mpl.ticker import LongitudeFormatter, LatitudeFormatter\n",
    "\n",
    "try:\n",
    "    import colorcet\n",
    "except ImportError:\n",
    "    colorcet = None\n",
    "\n",
    "from cloudbandpy.figure_tools import set_fontsize\n",
    "from cloudbandpy.io_utilities import load_ymlfile, load_data_from_saved_var_files, subset_latitudes, subset_longitudes\n",
    "from cloudbandpy.misc import parse_arguments\n",
    "from cloudbandpy.time_utilities import create_list_of_dates, add_startend_datetime2config\n",
    "from cloudbandpy.tracking import compute_density"
   ]
  },
  {
   "attachments": {},
   "cell_type": "markdown",
   "metadata": {},
   "source": [
    "Load GPCP data "
   ]
  },
  {
   "cell_type": "code",
   "execution_count": null,
   "metadata": {},
   "outputs": [],
   "source": [
    "config_file = os.path.join(\"../config\", \"config_analysis.yml\")\n",
    "\n",
    "config = load_ymlfile(config_file, isconfigfile=True)\n",
    "\n",
    "data_localpath = config[\"data_localpath\"]\n",
    "filename = \"GPCPMON_L3_1983_2019_timemean.nc4\"\n",
    "file_path = os.path.join(data_localpath, filename)\n",
    "ncfile = Dataset(file_path, \"r\")\n",
    "lons = ncfile.variables[\"lon\"][:]\n",
    "lats = ncfile.variables[\"lat\"][:]\n",
    "precip = ncfile.variables[\"sat_gauge_precip\"][0]  # mm/day\n",
    "\n",
    "# Add cyclic point\n",
    "cdata, clons = cutil.add_cyclic_point(precip, lons)\n"
   ]
  },
  {
   "cell_type": "code",
   "execution_count": null,
   "metadata": {},
   "outputs": [],
   "source": [
    "def plot_gpcg_precip_cloudbandday(lons, lats, lonscb, latscb, config):\n",
    "    # Global map of OLR year mean\n",
    "    set_fontsize(17)\n",
    "    LON_FORMAT = LongitudeFormatter(zero_direction_label=True, degree_symbol=\"\")\n",
    "    LAT_FORMAT = LatitudeFormatter(degree_symbol=\"\")\n",
    "    try:\n",
    "        # better looking colorblind-proof colormap from colorcet\n",
    "        cmap = get_cmap(\"cet_CET_CBL2_r\")\n",
    "    except:\n",
    "        cmap = get_cmap(\"viridis\")\n",
    "    #\n",
    "    fig = plt.figure(figsize=(10, 8))\n",
    "    ax = plt.axes(projection=ccrs.PlateCarree(central_longitude=180))\n",
    "    fill = ax.contourf(\n",
    "        lons,\n",
    "        lats,\n",
    "        np.ma.masked_where(cdata == 0, cdata),\n",
    "        transform=ccrs.PlateCarree(),\n",
    "        levels=np.arange(0.0, 12.2, 0.2),\n",
    "        cmap=cmap,\n",
    "        extend=\"max\",\n",
    "    )\n",
    "    cs = ax.contour(\n",
    "        lonscb,\n",
    "        latscb,\n",
    "        np.ma.masked_where(density == 0, density),\n",
    "        transform=ccrs.PlateCarree(),\n",
    "        levels=range(0, 56, 7),\n",
    "        linewidths=1.5,\n",
    "        colors=\"#497C3F\",\n",
    "    )\n",
    "    ax.clabel(cs, cs.levels, inline=True)\n",
    "    ax.coastlines(\"50m\", color=\"#404040\", linewidth=0.8)\n",
    "    ax.set_extent(\n",
    "        (config[\"lon_west\"], config[\"lon_east\"], config[\"lat_south\"], config[\"lat_north\"]), crs=ccrs.PlateCarree()\n",
    "    )\n",
    "    gl = ax.gridlines(crs=ccrs.PlateCarree(), draw_labels=True, linewidth=0.6, color=\"gray\", alpha=0.4, linestyle=\"-\")\n",
    "    gl.top_labels = False\n",
    "    gl.ylocator = mticker.MultipleLocator(20)\n",
    "    gl.xlocator = mticker.MultipleLocator(20)\n",
    "    gl.xformatter = LON_FORMAT\n",
    "    gl.yformatter = LAT_FORMAT\n",
    "    #\n",
    "    im_ratio = cdata.shape[0] / cdata.shape[1]\n",
    "    cbar = fig.colorbar(fill, orientation=\"vertical\", ticks=range(0, 13, 1), fraction=0.04 * im_ratio)\n",
    "    cbar.ax.set_yticklabels([el if el % 2 == 0 else \"\" for el in range(13)])\n",
    "    cbar.set_label(r\"Precipitation rate (mm.day$^{-1}$)\")\n",
    "    return fig\n",
    "\n",
    "\n",
    "if __name__ == \"__main__\":\n",
    "    \n",
    "    # Make sure that the period for the cloud bands cover the same period as GPCP\n",
    "    config_copy = config.copy()\n",
    "    config_copy[\"startdate\"] = \"19830101.00\"\n",
    "    config_copy[\"enddate\"] = \"20191231.00\"\n",
    "    add_startend_datetime2config(config_copy)\n",
    "\n",
    "    # Get latitude and longitude of 0.5 degree ERA5 data for the cloud bands\n",
    "    lons_globe = np.arange(0,360,.5)\n",
    "    lats_globe = np.arange(90,-90.5,-.5)\n",
    "    # Get longitudes and latitudes of South Pacific domain\n",
    "    _, lonsSP = subset_longitudes(lons_globe, config_copy[\"lon_west\"], config_copy[\"lon_east\"])\n",
    "    _, latsSP = subset_latitudes(lats_globe, config_copy[\"lat_north\"], config_copy[\"lat_south\"])\n",
    "    \n",
    "    # Load cloud bands from the South Pacific\n",
    "    listofdates = create_list_of_dates(config_copy)\n",
    "    print(listofdates)\n",
    "    list_of_cloud_bands = load_data_from_saved_var_files(config_copy, varname=\"list_of_cloud_bands\")\n",
    "    # Compute density for the southern hemisphere\n",
    "    _, density = compute_density(lats=latsSP, lons=lonsSP, dates=listofdates, list_of_cloud_bands=list_of_cloud_bands)\n",
    "    # Create figure and save it\n",
    "    fig = plot_gpcg_precip_cloudbandday(clons, lats, lonsSP, latsSP, config_copy)\n",
    "    fig.show()\n",
    "    fig.savefig(\n",
    "        f\"{config_copy['dir_figures']}/map_precip_GPCP_avg_{config_copy['datetime_startdate'].year}-{config_copy['datetime_enddate'].year}_cloudbands7days.png\",\n",
    "        dpi=200,\n",
    "        bbox_inches=\"tight\",\n",
    "    )\n"
   ]
  }
 ],
 "metadata": {
  "language_info": {
   "name": "python"
  },
  "orig_nbformat": 4
 },
 "nbformat": 4,
 "nbformat_minor": 2
}
