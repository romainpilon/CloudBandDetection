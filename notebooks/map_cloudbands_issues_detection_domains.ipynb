{
 "cells": [
  {
   "attachments": {},
   "cell_type": "markdown",
   "id": "a68e52f2",
   "metadata": {},
   "source": [
    "#### This script creates world maps of cloud bands over the northern hemisphere and southern hemispheres depicing issues of detection when setting up domains not made for cloud band detection over convergence zones "
   ]
  },
  {
   "attachments": {},
   "cell_type": "markdown",
   "id": "30fa41fc",
   "metadata": {},
   "source": [
    "Importation of appropriate packages"
   ]
  },
  {
   "cell_type": "code",
   "execution_count": null,
   "id": "5a7d4e05",
   "metadata": {},
   "outputs": [],
   "source": [
    "import os, sys\n",
    "import warnings\n",
    "\n",
    "import numpy as np\n",
    "import matplotlib.pyplot as plt\n",
    "from matplotlib.ticker import MultipleLocator\n",
    "\n",
    "try:\n",
    "    import cartopy.crs as ccrs\n",
    "    from cartopy.mpl.ticker import LongitudeFormatter, LatitudeFormatter\n",
    "    import cartopy.util as cutil\n",
    "    LON_FORMAT = LongitudeFormatter(zero_direction_label=True, degree_symbol=\"\")\n",
    "    LAT_FORMAT = LatitudeFormatter(degree_symbol=\"\")\n",
    "except ModuleNotFoundError:\n",
    "    print(\"Cartopy is not installed. Figure will not be produced.\")\n",
    "\n",
    "warnings.filterwarnings(\"ignore\")\n",
    "\n",
    "from cloudbanddetection.figure_tools import set_fontsize\n",
    "from cloudbanddetection.time_utilities import create_list_of_dates, add_startend_datetime2config\n",
    "\n",
    "from cloudbanddetection.io_utilities import (\n",
    "    load_ymlfile,\n",
    "    load_data_from_saved_var_files,\n",
    ")"
   ]
  },
  {
   "attachments": {},
   "cell_type": "markdown",
   "id": "70592e97",
   "metadata": {},
   "source": [
    "Load configuration files and data"
   ]
  },
  {
   "cell_type": "code",
   "execution_count": null,
   "id": "30515cb8",
   "metadata": {},
   "outputs": [],
   "source": [
    "# Load configuration file southern hemisphere\n",
    "config_file = os.path.join(\"../config\", \"config_cbworkflow_southernhemisphere.yml\")\n",
    "config = load_ymlfile(config_file, isconfigfile=True)\n",
    "\n",
    "config_copy = config.copy()\n",
    "config_copy[\"saved_dirpath\"] = os.path.join(\"../data\")\n",
    "config_copy[\"startdate\"] = \"20210127.00\"\n",
    "config_copy[\"enddate\"] = \"20210127.00\"\n",
    "config_copy[\"load_saved_files\"] = True\n",
    "add_startend_datetime2config(config_copy)\n",
    "listofdates = create_list_of_dates(config_copy)\n",
    "\n",
    "list_of_cloud_bands_southhemisphere = load_data_from_saved_var_files(config=config_copy, varname=\"list_of_cloud_bands\")\n",
    "\n",
    "# Load configuration file northen hemisphere\n",
    "config_file2 = os.path.join(\"../config\", \"config_cbworkflow_northernhemisphere.yml\")\n",
    "config2 = load_ymlfile(config_file2, isconfigfile=True)\n",
    "\n",
    "config_copy2 = config2.copy()\n",
    "config_copy2[\"saved_dirpath\"] = os.path.join(\"../data\")\n",
    "config_copy2[\"startdate\"] = \"19980627.00\"\n",
    "config_copy2[\"enddate\"] = \"19980627.00\"\n",
    "# config_copy2[\"startdate\"] = \"19980627.00\"\n",
    "# config_copy2[\"enddate\"] = \"19980627.00\"\n",
    "config_copy2[\"load_saved_files\"] = True\n",
    "add_startend_datetime2config(config_copy2)\n",
    "listofdates2 = create_list_of_dates(config_copy2)\n",
    "\n",
    "list_of_cloud_bands_northhemisphere = load_data_from_saved_var_files(\n",
    "    config=config_copy2, varname=\"list_of_cloud_bands\"\n",
    ")"
   ]
  },
  {
   "cell_type": "code",
   "execution_count": null,
   "id": "cae90887",
   "metadata": {},
   "outputs": [],
   "source": [
    "# Create longitudes and latitudes of the two hemispheres\n",
    "lons = np.arange(config[\"lon_west\"], config[\"lon_east\"], 0.5)\n",
    "lats_sh = np.arange(config[\"lat_south\"], config[\"lat_north\"] + 0.5, 0.5)[::-1]\n",
    "lats_nh = np.arange(config_copy2[\"lat_south\"], config_copy2[\"lat_north\"] + 0.5, 0.5)"
   ]
  },
  {
   "cell_type": "code",
   "execution_count": null,
   "metadata": {},
   "outputs": [],
   "source": [
    "# Load OLR data. It will be the background of the cloud bands on the maps\n",
    "filename_sh = f\"../data/olrERA5_{config_copy['datetime_startdate'].strftime('%Y%m%d.%H')}-{config_copy['datetime_enddate'].strftime('%Y%m%d.%H')}-{config_copy['domain']}.npy\"\n",
    "daily_variable_sh = np.load(filename_sh)[0]\n",
    "daily_variable_sh, clons = cutil.add_cyclic_point(daily_variable_sh, lons)\n",
    "\n",
    "filename_nh = f\"../data/olrERA5_{config_copy2['datetime_startdate'].strftime('%Y%m%d.%H')}-{config_copy2['datetime_enddate'].strftime('%Y%m%d.%H')}-{config_copy2['domain']}.npy\"\n",
    "daily_variable_nh = np.load(filename_nh)[0]\n",
    "daily_variable_nh, _ = cutil.add_cyclic_point(daily_variable_nh, lons)"
   ]
  },
  {
   "cell_type": "code",
   "execution_count": null,
   "id": "90ff3134",
   "metadata": {},
   "outputs": [],
   "source": [
    "from matplotlib import colors\n",
    "\n",
    "\n",
    "set_fontsize(size=19)\n",
    "fig, ax = plt.subplots(\n",
    "    ncols=1, nrows=2, subplot_kw={\"projection\": ccrs.PlateCarree(central_longitude=180)}, figsize=(10, 5)\n",
    ")\n",
    "cmaps = ['plasma_r', 'viridis', 'PuRd']\n",
    "colors = [\"goldenrod\", \"darkturquoise\", \"mediumpurple\", \"darkorange\"]\n",
    "ax[0].set_title(f\"a) {config_copy2['datetime_startdate'].strftime('%d %b %Y')}\", loc=\"left\", color=\"k\")\n",
    "olrfill = ax[0].contourf(clons,lats_nh,daily_variable_nh,transform=ccrs.PlateCarree(),levels=range(100,300,10),cmap=\"binary\",extend=\"both\")\n",
    "# loop over all the cloud bands of the day in the NH\n",
    "for idx, icb in enumerate(list_of_cloud_bands_northhemisphere[0]):\n",
    "    ax[0].contour(\n",
    "        lons,\n",
    "        lats_nh,\n",
    "        icb.cloud_band_array,\n",
    "        np.ma.masked_where(icb.cloud_band_array == 0, icb.cloud_band_array),\n",
    "        transform=ccrs.PlateCarree(),\n",
    "        linewidths=1.3,\n",
    "        colors=colors[idx]\n",
    "        # levels=range(4),\n",
    "        # cmap=cmaps[idx], \n",
    "    )\n",
    "ax[0].set_yticks([0, 20, 40], crs=ccrs.PlateCarree())\n",
    "ax[0].yaxis.set_minor_locator(MultipleLocator(10))\n",
    "ax[0].yaxis.set_major_formatter(LatitudeFormatter(degree_symbol=\"\"))\n",
    "ax[0].set_xticks([0, 60, 120, 180, 240, 300, 359.9999999999], crs=ccrs.PlateCarree())\n",
    "ax[0].xaxis.set_minor_locator(MultipleLocator(10))\n",
    "ax[0].xaxis.set_major_formatter(LongitudeFormatter(zero_direction_label=False, degree_symbol=\"\"))\n",
    "ax[0].coastlines(color=\"#595959\")\n",
    "ax[0].gridlines(draw_labels=False, alpha=0.3)\n",
    "\n",
    "ax[1].set_title(f\"b) {config_copy['datetime_startdate'].strftime('%d %b %Y')}\", loc=\"left\", color=\"k\")\n",
    "ax[1].contourf(clons,lats_sh,daily_variable_sh,transform=ccrs.PlateCarree(),levels=range(100,300,10),cmap=\"binary\",extend=\"both\")\n",
    "\n",
    "# loop over all the cloud bands of the day in the SH\n",
    "for idx, icb in enumerate(list_of_cloud_bands_southhemisphere[0]):\n",
    "    ax[1].contour(\n",
    "        lons,\n",
    "        lats_sh,\n",
    "        icb.cloud_band_array,\n",
    "        # np.ma.masked_where(icb.cloud_band_array == 0, icb.cloud_band_array),\n",
    "        transform=ccrs.PlateCarree(),\n",
    "        linewidths=1,\n",
    "        colors=colors[idx]\n",
    "        # levels=range(4),\n",
    "        # cmap=cmaps[idx], \n",
    "    )\n",
    "ax[1].set_yticks([0,-20, -40], crs=ccrs.PlateCarree())\n",
    "ax[1].yaxis.set_minor_locator(MultipleLocator(10))\n",
    "ax[1].yaxis.set_major_formatter(LatitudeFormatter(degree_symbol=\"\"))\n",
    "ax[1].set_xticks([0, 60, 120, 180, 240, 300, 359.9999999999], crs=ccrs.PlateCarree())\n",
    "ax[1].xaxis.set_minor_locator(MultipleLocator(10))\n",
    "ax[1].xaxis.set_major_formatter(LongitudeFormatter(zero_direction_label=False, degree_symbol=\"\"))\n",
    "ax[1].coastlines(color=\"#595959\")\n",
    "ax[1].gridlines(draw_labels=False, alpha=0.3)\n",
    "\n",
    "fig.subplots_adjust(right=0.8)\n",
    "cbar_ax = fig.add_axes([0.83, 0.193, 0.03, 0.6])\n",
    "fig.colorbar(olrfill, cax=cbar_ax)\n",
    "# cbar.set_ticks(np.arange(100, 340, 40))\n",
    "\n",
    "fig.subplots_adjust(wspace=0.01, hspace=0.01)\n",
    "\n"
   ]
  }
 ],
 "metadata": {
  "kernelspec": {
   "display_name": "env_test",
   "language": "python",
   "name": "python3"
  },
  "language_info": {
   "codemirror_mode": {
    "name": "ipython",
    "version": 3
   },
   "file_extension": ".py",
   "mimetype": "text/x-python",
   "name": "python",
   "nbconvert_exporter": "python",
   "pygments_lexer": "ipython3",
   "version": "3.10.8"
  }
 },
 "nbformat": 4,
 "nbformat_minor": 5
}
