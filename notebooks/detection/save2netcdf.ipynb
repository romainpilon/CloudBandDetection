{
 "cells": [
  {
   "cell_type": "code",
   "execution_count": 1,
   "id": "bff03cb0",
   "metadata": {},
   "outputs": [],
   "source": [
    "import datetime as dt\n",
    "\n",
    "import numpy as np\n",
    "import matplotlib.pyplot as plt\n",
    "import netCDF4 as nc\n",
    "\n",
    "import os\n",
    "import warnings\n",
    "warnings.filterwarnings('ignore')\n",
    "\n",
    "from cloudbandpy.load_driver import run_load_data\n",
    "\n",
    "from cloudbandpy.cb_detection import detection_workflow\n",
    "from cloudbandpy.io_utilities import create_list_of_dates, load_ymlfile, add_startend_datetime2config, write_cloud_bands_to_netcdf\n"
   ]
  },
  {
   "attachments": {},
   "cell_type": "markdown",
   "id": "75658889",
   "metadata": {},
   "source": [
    "Load configuration file and make adjustements for this test case"
   ]
  },
  {
   "cell_type": "code",
   "execution_count": 2,
   "id": "6dbbad28",
   "metadata": {},
   "outputs": [
    {
     "name": "stderr",
     "output_type": "stream",
     "text": [
      "2024-05-13 13:07:45,834 - io_utilities.load_ymlfile - INFO: Configuration file loaded\n"
     ]
    },
    {
     "name": "stdout",
     "output_type": "stream",
     "text": [
      "{'run_inheritance_tracking': True, 'startdate': '20160101.00', 'enddate': '20160130.00', 'domain': 'southPacific', 'hemisphere': 'south', 'lon_west': 130, 'lon_east': 290, 'lat_north': 5, 'lat_south': -50, 'clouddata_path': './ERA5/netcdf/3hourly/surface_level/', 'varname_infilename': 'top_net_thermal_radiation', 'qd_var': True, 'datatimeresolution': 3.0, 'period_detection': 24.0, 'olr_convert2wm2': True, 'varname': 'ttr', 'timecoord_name': 'time', 'xcoord_name': 'longitude', 'ycoord_name': 'latitude', 'select_djfm': False, 'parameters_file': './cloudbandPy/parameters/parameters_southhemisphere.yml', 'saved_dirpath': './cloud_band_files', 'save_dailyvar': False, 'save_listcloudbands': True, 'save_cloudbands_netcdf': False, 'load_saved_files': False, 'dir_figures': './cloud_band_figures', 'fig_detection_process': False, 'fig_time_evolution_object': False, 'fig_time_evolution_var_cloudband': False, 'fig_overlay_cloudband': False, 'fig_show_bbox_around_blobs': False, 'fig_inheritance_tracking': False, 'fig_density': False, 'datetime_startdate': datetime.datetime(2016, 1, 1, 0, 0), 'datetime_enddate': datetime.datetime(2016, 1, 30, 0, 0)}\n"
     ]
    }
   ],
   "source": [
    "base_dir = \"../../\"\n",
    "\n",
    "config_file = os.path.join(base_dir, \"config/config_cbworkflow_southPacific.yml\")\n",
    "config = load_ymlfile(config_file, isconfigfile=True)\n",
    "config_event = config.copy()\n",
    "# Make sure that the period for the cloud bands cover the same period as the example data\n",
    "config_event[\"startdate\"] = \"20210223.00\"\n",
    "config_event[\"enddate\"] = \"20210227.00\"\n",
    "\n",
    "dirdata = \"data/\"\n",
    "config_event[\"clouddata_path\"] = os.path.join(base_dir, \"data\")\n",
    "config_event[\"parameters_file\"] = os.path.join(\n",
    "    base_dir, \"parameters/parameters_southhemisphere.yml\"\n",
    ")\n",
    "# No need to save any files\n",
    "config_event[\"load_saved_files\"] = False\n",
    "config_event[\"save_dailyvar\"] = False\n",
    "config_event[\"save_listcloudbands\"] = False\n",
    "config_event[\"save_cloudbands_netcdf\"] = True\n",
    "\n",
    "print(config)"
   ]
  },
  {
   "cell_type": "markdown",
   "id": "3f380c4f",
   "metadata": {},
   "source": [
    "Get OLR on 3-hourly data (one hour mean from ERA5)"
   ]
  },
  {
   "cell_type": "code",
   "execution_count": 3,
   "id": "f552c6db",
   "metadata": {},
   "outputs": [
    {
     "name": "stderr",
     "output_type": "stream",
     "text": [
      "2024-05-13 13:07:46,093 - load_driver.run_load_data - INFO: Loading data and parameters \n",
      "2024-05-13 13:07:46,097 - io_utilities.load_ymlfile - INFO: Parameters file loaded\n",
      "2024-05-13 13:07:46,097 - io_utilities.load_dataset - INFO: Loading dataset from ../../data\n",
      "2024-05-13 13:07:46,098 - io_utilities.load_dataset - INFO: Loading 2016 --> 2016\n",
      "2024-05-13 13:08:28,848 - io_utilities.get_variable_lonlat_from_domain - INFO: Subsetting dataset on domain done\n",
      "2024-05-13 13:08:28,870 - io_utilities.make_daily_average - INFO: Computation of daily average\n",
      "2024-05-13 13:08:29,719 - io_utilities.make_daily_average - INFO: Computation of daily average done\n",
      "2024-05-13 13:08:29,737 - io_utilities.load_dataset - INFO: Dataset loaded\n"
     ]
    }
   ],
   "source": [
    "config_event[\"qd_var\"] = True\n",
    "olr2process, parameters, lats, lons, _ = run_load_data(config_event)"
   ]
  },
  {
   "attachments": {},
   "cell_type": "markdown",
   "id": "b7d233e9",
   "metadata": {},
   "source": [
    "Load cloud bands from the South Pacific for the dates specified in the analyses config file"
   ]
  },
  {
   "cell_type": "code",
   "execution_count": 4,
   "id": "3d42cc6a",
   "metadata": {},
   "outputs": [
    {
     "name": "stdout",
     "output_type": "stream",
     "text": [
      "5 dates created from 2021-02-23 00:00:00 to 2021-02-27 00:00:00\n"
     ]
    }
   ],
   "source": [
    "add_startend_datetime2config(config_event)\n",
    "listofdates = create_list_of_dates(config_event)\n",
    "print(str(len(listofdates))+\" dates created from \"+str(listofdates[0])+\" to \"+str(listofdates[-1]))"
   ]
  },
  {
   "cell_type": "markdown",
   "metadata": {},
   "source": [
    "Load data"
   ]
  },
  {
   "cell_type": "code",
   "execution_count": 5,
   "metadata": {},
   "outputs": [
    {
     "name": "stderr",
     "output_type": "stream",
     "text": [
      "2024-05-13 13:08:29,783 - load_driver.run_load_data - INFO: Loading data and parameters \n",
      "2024-05-13 13:08:29,829 - io_utilities.load_ymlfile - INFO: Parameters file loaded\n",
      "2024-05-13 13:08:29,830 - io_utilities.load_dataset - INFO: Loading dataset from ../../data\n",
      "2024-05-13 13:08:29,830 - io_utilities.load_dataset - INFO: Loading 2021 --> 2021\n",
      "2024-05-13 13:08:53,600 - io_utilities.get_variable_lonlat_from_domain - INFO: Subsetting dataset on domain done\n",
      "2024-05-13 13:08:53,623 - io_utilities.make_daily_average - INFO: Computation of daily average\n",
      "2024-05-13 13:08:53,760 - io_utilities.make_daily_average - INFO: Computation of daily average done\n",
      "2024-05-13 13:08:53,777 - io_utilities.load_dataset - INFO: Dataset loaded\n"
     ]
    }
   ],
   "source": [
    "olr2process, parameters, lats, lons, resolution = run_load_data(config_event)"
   ]
  },
  {
   "cell_type": "markdown",
   "metadata": {},
   "source": [
    "Run detection"
   ]
  },
  {
   "cell_type": "code",
   "execution_count": 6,
   "metadata": {},
   "outputs": [
    {
     "name": "stderr",
     "output_type": "stream",
     "text": [
      "2024-05-13 13:08:53,814 - cb_detection.detection_workflow - INFO: Cloud band detection in progress\n",
      "2024-05-13 13:08:54,456 - cb_detection.detection_workflow - INFO: Cloud band detection done\n"
     ]
    }
   ],
   "source": [
    "(\n",
    "    fill_binarize_data,\n",
    "    dilation,\n",
    "    labelled_blobs,\n",
    "    labelled_candidates,\n",
    "    cloud_bands_map,\n",
    "    list_of_candidates,\n",
    "    list_of_cloud_bands,\n",
    ") = detection_workflow(\n",
    "    var2process=olr2process,\n",
    "    parameters=parameters,\n",
    "    latitudes=lats,\n",
    "    longitudes=lons,\n",
    "    resolution=resolution,\n",
    "    listofdates=listofdates,\n",
    "    config=config,\n",
    ")"
   ]
  },
  {
   "cell_type": "code",
   "execution_count": 7,
   "id": "7fc855ec",
   "metadata": {},
   "outputs": [
    {
     "data": {
      "text/plain": [
       "<matplotlib.colorbar.Colorbar at 0x7f41645183d0>"
      ]
     },
     "execution_count": 7,
     "metadata": {},
     "output_type": "execute_result"
    },
    {
     "data": {
      "image/png": "[encoded data removed]",
      "text/plain": [
       "<Figure size 640x480 with 2 Axes>"
      ]
     },
     "metadata": {},
     "output_type": "display_data"
    }
   ],
   "source": [
    "plt.imshow(cloud_bands_map[1])\n",
    "plt.colorbar(orientation='horizontal')"
   ]
  },
  {
   "cell_type": "markdown",
   "id": "30890cb0",
   "metadata": {},
   "source": [
    "Save to netCDF file"
   ]
  },
  {
   "cell_type": "code",
   "execution_count": 8,
   "id": "4dcb7968",
   "metadata": {},
   "outputs": [
    {
     "name": "stdout",
     "output_type": "stream",
     "text": [
      "File not found.\n"
     ]
    }
   ],
   "source": [
    "try: os.remove(f\"cloud_bands_{config_event['startdate'][:4]}.nc\")\n",
    "except FileNotFoundError: print(f\"File not found.\")\n",
    "write_cloud_bands_to_netcdf(list_of_cloud_bands=list_of_cloud_bands, cloud_band_array=cloud_bands_map, lons=lons, lats=lats, config=config_event)"
   ]
  },
  {
   "cell_type": "code",
   "execution_count": 12,
   "id": "84eb1f86",
   "metadata": {},
   "outputs": [
    {
     "name": "stdout",
     "output_type": "stream",
     "text": [
      "[78.27320861816406 42.0500602722168]\n"
     ]
    }
   ],
   "source": [
    "ds = nc.Dataset(f\"cloud_band_files/cloud_bands_{config_event['startdate']}-{config_event['enddate']}-{config_event['domain']}.nc\", \"r\")\n",
    "cb = ds.variables[\"cloud_band_mask\"][...]\n",
    "# print(np.unique(cb))\n",
    "angle = ds.variables[\"angle\"][...]\n",
    "print(angle[0])"
   ]
  },
  {
   "cell_type": "code",
   "execution_count": 13,
   "id": "0c85c50c",
   "metadata": {},
   "outputs": [
    {
     "name": "stdout",
     "output_type": "stream",
     "text": [
      "[0.0000000e+00 2.0210224e+15 2.0210224e+16]\n"
     ]
    },
    {
     "data": {
      "image/png": "[encoded data removed]",
      "text/plain": [
       "<Figure size 640x480 with 2 Axes>"
      ]
     },
     "metadata": {},
     "output_type": "display_data"
    }
   ],
   "source": [
    "plt.imshow(cb[1])\n",
    "plt.colorbar(orientation='horizontal')\n",
    "print(np.unique(cb[1]))"
   ]
  }
 ],
 "metadata": {
  "kernelspec": {
   "display_name": "Python 3 (ipykernel)",
   "language": "python",
   "name": "python3"
  },
  "language_info": {
   "codemirror_mode": {
    "name": "ipython",
    "version": 3
   },
   "file_extension": ".py",
   "mimetype": "text/x-python",
   "name": "python",
   "nbconvert_exporter": "python",
   "pygments_lexer": "ipython3",
   "version": "3.9.13"
  }
 },
 "nbformat": 4,
 "nbformat_minor": 5
}
