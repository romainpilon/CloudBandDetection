{
 "cells": [
  {
   "cell_type": "code",
   "execution_count": 3,
   "id": "bff03cb0",
   "metadata": {},
   "outputs": [],
   "source": [
    "import datetime as dt\n",
    "\n",
    "import numpy as np\n",
    "import matplotlib.pyplot as plt\n",
    "import netCDF4 as nc\n",
    "\n",
    "import os\n",
    "import warnings\n",
    "warnings.filterwarnings('ignore')\n",
    "\n",
    "from cloudbandpy.load_driver import run_load_data\n",
    "\n",
    "from cloudbandpy.cb_detection import detection_workflow\n",
    "from cloudbandpy.io_utilities import create_list_of_dates, load_ymlfile, add_startend_datetime2config, create_nc_file, write_cloud_bands_to_netcdf\n",
    "from cloudbandpy.misc import wrapTo180\n"
   ]
  },
  {
   "attachments": {},
   "cell_type": "markdown",
   "id": "75658889",
   "metadata": {},
   "source": [
    "Load configuration file and make adjustements for this test case"
   ]
  },
  {
   "cell_type": "code",
   "execution_count": 4,
   "id": "6dbbad28",
   "metadata": {},
   "outputs": [
    {
     "name": "stderr",
     "output_type": "stream",
     "text": [
      "2024-05-03 18:06:24,998 - io_utilities.load_ymlfile - INFO: Configuration file loaded\n"
     ]
    },
    {
     "name": "stdout",
     "output_type": "stream",
     "text": [
      "{'run_inheritance_tracking': True, 'startdate': '20160101.00', 'enddate': '20160130.00', 'domain': 'southPacific', 'hemisphere': 'south', 'lon_west': 130, 'lon_east': 290, 'lat_north': 5, 'lat_south': -50, 'clouddata_path': './ERA5/netcdf/3hourly/surface_level/', 'varname_infilename': 'top_net_thermal_radiation', 'qd_var': True, 'datatimeresolution': 3.0, 'period_detection': 24.0, 'olr_convert2wm2': True, 'varname': 'ttr', 'timecoord_name': 'time', 'xcoord_name': 'longitude', 'ycoord_name': 'latitude', 'select_djfm': False, 'parameters_file': './cloudbandPy/parameters/parameters_southhemisphere.yml', 'saved_dirpath': './cloud_band_files', 'save_dailyvar': False, 'save_listcloudbands': True, 'load_saved_files': False, 'dir_figures': './cloud_band_figures', 'fig_detection_process': False, 'fig_time_evolution_object': False, 'fig_time_evolution_var_cloudband': False, 'fig_overlay_cloudband': False, 'fig_show_bbox_around_blobs': False, 'fig_inheritance_tracking': False, 'fig_density': False, 'datetime_startdate': datetime.datetime(2016, 1, 1, 0, 0), 'datetime_enddate': datetime.datetime(2016, 1, 30, 0, 0)}\n"
     ]
    }
   ],
   "source": [
    "base_dir = \"../../\"\n",
    "\n",
    "config_file = os.path.join(base_dir, \"config/config_cbworkflow_southPacific.yml\")\n",
    "config = load_ymlfile(config_file, isconfigfile=True)\n",
    "config_event = config.copy()\n",
    "# Make sure that the period for the cloud bands cover the same period as the example data\n",
    "config_event[\"startdate\"] = \"20160417.00\"\n",
    "config_event[\"enddate\"] = \"20160420.00\"\n",
    "\n",
    "dirdata = \"data/\"\n",
    "config_event[\"clouddata_path\"] = os.path.join(base_dir, \"data\")\n",
    "config_event[\"parameters_file\"] = os.path.join(\n",
    "    base_dir, \"parameters/parameters_southhemisphere.yml\"\n",
    ")\n",
    "# No need to save any files\n",
    "config_event[\"load_saved_files\"] = False\n",
    "config_event[\"save_dailyvar\"] = False\n",
    "config_event[\"save_listcloudbands\"] = False\n",
    "\n",
    "# filepath = f\"{config['saved_dirpath']}list_of_cloud_bands\"+config['startdate']+\"-\"+config['enddate']+\"-\"+config['domain']+\".bin\"\n",
    "# print(\"Example data exists:\", os.path.isfile(filepath))\n",
    "# print(\"file is:\", filepath)\n",
    "print(config)"
   ]
  },
  {
   "cell_type": "markdown",
   "id": "3f380c4f",
   "metadata": {},
   "source": [
    "Get OLR on 3-hourly data (one hour mean from ERA5)"
   ]
  },
  {
   "cell_type": "code",
   "execution_count": 5,
   "id": "f552c6db",
   "metadata": {},
   "outputs": [
    {
     "name": "stderr",
     "output_type": "stream",
     "text": [
      "2024-05-03 18:06:25,006 - load_driver.run_load_data - INFO: Loading data and parameters \n",
      "2024-05-03 18:06:25,010 - io_utilities.load_ymlfile - INFO: Parameters file loaded\n",
      "2024-05-03 18:06:25,010 - io_utilities.load_dataset - INFO: Loading dataset from ../../data\n",
      "2024-05-03 18:06:25,011 - io_utilities.load_dataset - INFO: Loading 2016 --> 2016\n",
      "2024-05-03 18:06:43,433 - io_utilities.get_variable_lonlat_from_domain - INFO: Subsetting dataset on domain done\n",
      "2024-05-03 18:06:43,456 - io_utilities.make_daily_average - INFO: Computation of daily average\n",
      "2024-05-03 18:06:44,307 - io_utilities.make_daily_average - INFO: Computation of daily average done\n",
      "2024-05-03 18:06:44,320 - io_utilities.load_dataset - INFO: Dataset loaded\n"
     ]
    }
   ],
   "source": [
    "config_event[\"qd_var\"] = True\n",
    "olr2process, parameters, lats, lons, _ = run_load_data(config_event)"
   ]
  },
  {
   "attachments": {},
   "cell_type": "markdown",
   "id": "b7d233e9",
   "metadata": {},
   "source": [
    "Load cloud bands from the South Pacific for the dates specified in the analyses config file"
   ]
  },
  {
   "cell_type": "code",
   "execution_count": 6,
   "id": "3d42cc6a",
   "metadata": {},
   "outputs": [
    {
     "name": "stdout",
     "output_type": "stream",
     "text": [
      "4 dates created from 2016-04-17 00:00:00 to 2016-04-20 00:00:00\n"
     ]
    }
   ],
   "source": [
    "add_startend_datetime2config(config_event)\n",
    "listofdates = create_list_of_dates(config_event)\n",
    "print(str(len(listofdates))+\" dates created from \"+str(listofdates[0])+\" to \"+str(listofdates[-1]))"
   ]
  },
  {
   "cell_type": "markdown",
   "metadata": {},
   "source": [
    "Load data"
   ]
  },
  {
   "cell_type": "code",
   "execution_count": 7,
   "metadata": {},
   "outputs": [
    {
     "name": "stderr",
     "output_type": "stream",
     "text": [
      "2024-05-03 18:06:44,364 - load_driver.run_load_data - INFO: Loading data and parameters \n",
      "2024-05-03 18:06:44,368 - io_utilities.load_ymlfile - INFO: Parameters file loaded\n",
      "2024-05-03 18:06:44,368 - io_utilities.load_dataset - INFO: Loading dataset from ../../data\n",
      "2024-05-03 18:06:44,369 - io_utilities.load_dataset - INFO: Loading 2016 --> 2016\n",
      "2024-05-03 18:07:01,119 - io_utilities.get_variable_lonlat_from_domain - INFO: Subsetting dataset on domain done\n",
      "2024-05-03 18:07:01,144 - io_utilities.make_daily_average - INFO: Computation of daily average\n",
      "2024-05-03 18:07:01,257 - io_utilities.make_daily_average - INFO: Computation of daily average done\n",
      "2024-05-03 18:07:01,269 - io_utilities.load_dataset - INFO: Dataset loaded\n"
     ]
    }
   ],
   "source": [
    "olr2process, parameters, lats, lons, resolution = run_load_data(config_event)"
   ]
  },
  {
   "cell_type": "markdown",
   "metadata": {},
   "source": [
    "Run detection"
   ]
  },
  {
   "cell_type": "code",
   "execution_count": 8,
   "metadata": {},
   "outputs": [
    {
     "name": "stderr",
     "output_type": "stream",
     "text": [
      "2024-05-03 18:07:01,306 - cb_detection.detection_workflow - INFO: Cloud band detection in progress\n",
      "2024-05-03 18:07:01,622 - cb_detection.detection_workflow - INFO: Cloud band detection done\n"
     ]
    }
   ],
   "source": [
    "(\n",
    "    fill_binarize_data,\n",
    "    dilation,\n",
    "    labelled_blobs,\n",
    "    labelled_candidates,\n",
    "    cloud_bands_map,\n",
    "    list_of_candidates,\n",
    "    list_of_cloud_bands,\n",
    ") = detection_workflow(\n",
    "    var2process=olr2process,\n",
    "    parameters=parameters,\n",
    "    latitudes=lats,\n",
    "    longitudes=lons,\n",
    "    resolution=resolution,\n",
    "    listofdates=listofdates,\n",
    "    config=config,\n",
    ")"
   ]
  },
  {
   "cell_type": "code",
   "execution_count": 9,
   "id": "7fc855ec",
   "metadata": {},
   "outputs": [
    {
     "data": {
      "text/plain": [
       "<matplotlib.image.AxesImage at 0x7f6def2a75b0>"
      ]
     },
     "execution_count": 9,
     "metadata": {},
     "output_type": "execute_result"
    },
    {
     "data": {
      "image/png": "[encoded data removed]",
      "text/plain": [
       "<Figure size 640x480 with 1 Axes>"
      ]
     },
     "metadata": {},
     "output_type": "display_data"
    }
   ],
   "source": [
    "plt.imshow(cloud_bands_map[1])"
   ]
  },
  {
   "cell_type": "markdown",
   "id": "30890cb0",
   "metadata": {},
   "source": [
    "Save to netCDF file"
   ]
  },
  {
   "cell_type": "code",
   "execution_count": 10,
   "id": "b0fabb4b",
   "metadata": {},
   "outputs": [],
   "source": [
    "# create_nc_file(\n",
    "#     cloud_bands_map,\n",
    "#     \"cloud_band_mask\",\n",
    "#     lons=lons,\n",
    "#     lats=lats,\n",
    "#     unitsVar=\"binary\",\n",
    "#     config=config_event,\n",
    "# )"
   ]
  },
  {
   "cell_type": "code",
   "execution_count": 11,
   "id": "b5625ecc",
   "metadata": {},
   "outputs": [],
   "source": [
    "# ds=nc.Dataset(\"foo.nc\", \"r\")\n",
    "# cb=ds.variables[\"cloud_band_mask\"][...]"
   ]
  },
  {
   "cell_type": "code",
   "execution_count": 12,
   "id": "73ce3ce7",
   "metadata": {},
   "outputs": [
    {
     "data": {
      "text/plain": [
       "(81.90229885057471, 227.4655172413793)"
      ]
     },
     "execution_count": 12,
     "metadata": {},
     "output_type": "execute_result"
    }
   ],
   "source": [
    "list_of_cloud_bands[0][0].latloncenter"
   ]
  },
  {
   "cell_type": "code",
   "execution_count": 13,
   "id": "4dcb7968",
   "metadata": {},
   "outputs": [],
   "source": [
    "write_cloud_bands_to_netcdf(list_of_cloud_bands=list_of_cloud_bands, lons=lons, lats=lats, config=config_event)"
   ]
  }
 ],
 "metadata": {
  "kernelspec": {
   "display_name": "Python 3 (ipykernel)",
   "language": "python",
   "name": "python3"
  },
  "language_info": {
   "codemirror_mode": {
    "name": "ipython",
    "version": 3
   },
   "file_extension": ".py",
   "mimetype": "text/x-python",
   "name": "python",
   "nbconvert_exporter": "python",
   "pygments_lexer": "ipython3",
   "version": "3.9.13"
  }
 },
 "nbformat": 4,
 "nbformat_minor": 5
}
