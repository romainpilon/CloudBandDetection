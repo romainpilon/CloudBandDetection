{
 "cells": [
  {
   "cell_type": "markdown",
   "metadata": {},
   "source": [
    "### This script allows to load OLR data, detect cloud bands and then do the inheritance tracking"
   ]
  },
  {
   "cell_type": "code",
   "execution_count": 1,
   "id": "bff03cb0",
   "metadata": {},
   "outputs": [],
   "source": [
    "import numpy as np\n",
    "import os\n",
    "import warnings\n",
    "warnings.filterwarnings('ignore')\n",
    "\n",
    "from cloudbandpy.load_driver import run_load_data\n",
    "from cloudbandpy.cb_detection import detection_workflow\n",
    "\n",
    "from cloudbandpy.tracking import plot_tracking_on_map, tracking\n",
    "from cloudbandpy.io_utilities import load_ymlfile, subset_latitudes, subset_longitudes\n",
    "from cloudbandpy.time_utilities import create_list_of_dates, add_startend_datetime2config"
   ]
  },
  {
   "attachments": {},
   "cell_type": "markdown",
   "id": "75658889",
   "metadata": {},
   "source": [
    "Load configuration file and make adjustements for this test case"
   ]
  },
  {
   "cell_type": "code",
   "execution_count": 2,
   "id": "6dbbad28",
   "metadata": {},
   "outputs": [
    {
     "name": "stderr",
     "output_type": "stream",
     "text": [
      "2024-02-20 17:17:26,745 - io_utilities.load_ymlfile - INFO: Configuration file loaded\n"
     ]
    },
    {
     "name": "stdout",
     "output_type": "stream",
     "text": [
      "{'run_inheritance_tracking': True, 'startdate': '20160101.00', 'enddate': '20160130.00', 'domain': 'southPacific', 'hemisphere': 'south', 'lon_west': 130, 'lon_east': 290, 'lat_north': 5, 'lat_south': -50, 'clouddata_path': './ERA5/netcdf/3hourly/surface_level/', 'varname_infilename': 'top_net_thermal_radiation', 'qd_var': True, 'datatimeresolution': 3.0, 'period_detection': 24.0, 'olr_convert2wm2': True, 'varname': 'ttr', 'timecoord_name': 'time', 'xcoord_name': 'longitude', 'ycoord_name': 'latitude', 'select_djfm': False, 'parameters_file': './cloudbandPy/parameters/parameters_southhemisphere.yml', 'saved_dirpath': './cloud_band_files', 'save_dailyvar': False, 'save_listcloudbands': True, 'load_saved_files': False, 'dir_figures': './cloud_band_figures', 'fig_detection_process': False, 'fig_time_evolution_object': False, 'fig_time_evolution_var_cloudband': False, 'fig_overlay_cloudband': False, 'fig_show_bbox_around_blobs': False, 'fig_inheritance_tracking': False, 'fig_density': False, 'datetime_startdate': datetime.datetime(2016, 1, 1, 0, 0), 'datetime_enddate': datetime.datetime(2016, 1, 30, 0, 0)}\n"
     ]
    }
   ],
   "source": [
    "base_dir = \"../../\"\n",
    "\n",
    "config_file = os.path.join(base_dir, \"config/config_cbworkflow_southPacific.yml\")\n",
    "config = load_ymlfile(config_file, isconfigfile=True)\n",
    "config_event = config.copy()\n",
    "# Make sure that the period for the cloud bands cover the same period as the example data\n",
    "config_event[\"startdate\"] = \"20210219.00\"\n",
    "config_event[\"enddate\"] = \"20210228.00\"\n",
    "\n",
    "dirdata = \"data/\"\n",
    "config_event[\"clouddata_path\"] = os.path.join(base_dir, \"data\")\n",
    "config_event[\"parameters_file\"] = os.path.join(\n",
    "    base_dir, \"parameters/parameters_southhemisphere.yml\"\n",
    ")\n",
    "# No need to save any files\n",
    "config_event[\"load_saved_files\"] = False\n",
    "config_event[\"save_dailyvar\"] = False\n",
    "config_event[\"save_listcloudbands\"] = False\n",
    "\n",
    "# filepath = f\"{config['saved_dirpath']}list_of_cloud_bands\"+config['startdate']+\"-\"+config['enddate']+\"-\"+config['domain']+\".bin\"\n",
    "# print(\"Example data exists:\", os.path.isfile(filepath))\n",
    "# print(\"file is:\", filepath)\n",
    "print(config)"
   ]
  },
  {
   "attachments": {},
   "cell_type": "markdown",
   "id": "b7d233e9",
   "metadata": {},
   "source": [
    "Load cloud bands from the South Pacific for the dates specified in the analyses config file"
   ]
  },
  {
   "cell_type": "code",
   "execution_count": 3,
   "id": "3d42cc6a",
   "metadata": {},
   "outputs": [
    {
     "name": "stdout",
     "output_type": "stream",
     "text": [
      "10 dates created from 2021-02-19 00:00:00 to 2021-02-28 00:00:00\n"
     ]
    }
   ],
   "source": [
    "add_startend_datetime2config(config_event)\n",
    "listofdates, array_of_dates = create_list_of_dates(config_event)\n",
    "print(str(len(listofdates))+\" dates created from \"+str(listofdates[0])+\" to \"+str(listofdates[-1]))"
   ]
  },
  {
   "cell_type": "markdown",
   "metadata": {},
   "source": [
    "Load data"
   ]
  },
  {
   "cell_type": "code",
   "execution_count": 4,
   "metadata": {},
   "outputs": [
    {
     "name": "stderr",
     "output_type": "stream",
     "text": [
      "2024-02-20 17:17:26,765 - load_driver.run_load_data - INFO: Loading data and parameters \n",
      "2024-02-20 17:17:26,769 - io_utilities.load_ymlfile - INFO: Parameters file loaded\n",
      "2024-02-20 17:17:26,770 - io_utilities.load_dataset - INFO: Loading dataset from ../../data\n",
      "2024-02-20 17:17:26,770 - io_utilities.load_dataset - INFO: Loading 2021 --> 2021\n",
      "2024-02-20 17:17:28,689 - io_utilities.get_variable_lonlat_from_domain - INFO: Subsetting dataset on domain done\n",
      "2024-02-20 17:17:28,691 - io_utilities.make_daily_average - INFO: Computation of daily average\n",
      "2024-02-20 17:17:28,961 - io_utilities.make_daily_average - INFO: Computation of daily average done\n",
      "2024-02-20 17:17:28,962 - io_utilities.load_dataset - INFO: Dataset loaded\n"
     ]
    }
   ],
   "source": [
    "olr2process, parameters, lats, lons, resolution = run_load_data(config_event)"
   ]
  },
  {
   "cell_type": "markdown",
   "id": "ce25776f",
   "metadata": {},
   "source": [
    "Save olr 2 netcdf file"
   ]
  },
  {
   "cell_type": "markdown",
   "metadata": {},
   "source": [
    "Run detection"
   ]
  },
  {
   "cell_type": "code",
   "execution_count": 8,
   "metadata": {},
   "outputs": [
    {
     "name": "stderr",
     "output_type": "stream",
     "text": [
      "2024-02-20 17:18:20,401 - cb_detection.detection_workflow - INFO: Cloud band detection in progress\n",
      "2024-02-20 17:18:20,902 - cb_detection.detection_workflow - INFO: Cloud band detection done\n"
     ]
    }
   ],
   "source": [
    "(\n",
    "        _,\n",
    "        _,\n",
    "        _,\n",
    "        _,\n",
    "        cloud_bands_over_time,\n",
    "        _,\n",
    "        list_of_cloud_bands,\n",
    "    ) = detection_workflow(\n",
    "        var2process=olr2process,\n",
    "        parameters=parameters,\n",
    "        latitudes=lats,\n",
    "        longitudes=lons,\n",
    "        resolution=resolution,\n",
    "        listofdates=listofdates,\n",
    "        config=config,\n",
    "    )"
   ]
  },
  {
   "cell_type": "markdown",
   "metadata": {},
   "source": [
    "Get life cycle of each cloud band"
   ]
  },
  {
   "cell_type": "code",
   "execution_count": null,
   "metadata": {},
   "outputs": [],
   "source": [
    "list_of_cloud_bands = tracking(list_of_cloud_bands, resolution, overlapfactor=parameters[\"othresh\"])"
   ]
  },
  {
   "attachments": {},
   "cell_type": "markdown",
   "id": "33ff6ebf",
   "metadata": {},
   "source": [
    "Import longitudes and latitudes for the map"
   ]
  },
  {
   "cell_type": "code",
   "execution_count": null,
   "id": "ad7ae9d2",
   "metadata": {},
   "outputs": [],
   "source": [
    "lons_globe = np.arange(0,360,.5)\n",
    "lats_globe = np.arange(90,-90.5,-.5)\n",
    "print(lats_globe.all()==lats_globe.all())\n",
    "# Get longitudes and latitudes of South Pacific domain\n",
    "_, lonsSP = subset_longitudes(lons_globe, config[\"lon_west\"], config[\"lon_east\"])\n",
    "_, latsSP = subset_latitudes(lats_globe, config[\"lat_north\"], config[\"lat_south\"])\n",
    "\n",
    "print(f\"Longitudes, min: {lonsSP.min()}, max: {lonsSP.max()}\")\n",
    "print(f\"Latitudes, min: {latsSP.min()}, max: {latsSP.max()}\")"
   ]
  },
  {
   "attachments": {},
   "cell_type": "markdown",
   "id": "cd405baa",
   "metadata": {},
   "source": [
    "Create the series of map with connection lines between the centroid lcoation of each cloud bands"
   ]
  },
  {
   "cell_type": "code",
   "execution_count": null,
   "id": "81cf75b6",
   "metadata": {},
   "outputs": [],
   "source": [
    "plot_tracking_on_map(\n",
    "    list_of_cloud_bands=list_of_cloud_bands,\n",
    "    lons=lonsSP,\n",
    "    lats=latsSP,\n",
    "    listofdates=listofdates,\n",
    "    config=config,\n",
    "    show=True,\n",
    "    save=False,\n",
    ")"
   ]
  }
 ],
 "metadata": {
  "kernelspec": {
   "display_name": "Python 3 (ipykernel)",
   "language": "python",
   "name": "python3"
  },
  "language_info": {
   "codemirror_mode": {
    "name": "ipython",
    "version": 3
   },
   "file_extension": ".py",
   "mimetype": "text/x-python",
   "name": "python",
   "nbconvert_exporter": "python",
   "pygments_lexer": "ipython3",
   "version": "3.9.13"
  }
 },
 "nbformat": 4,
 "nbformat_minor": 5
}
