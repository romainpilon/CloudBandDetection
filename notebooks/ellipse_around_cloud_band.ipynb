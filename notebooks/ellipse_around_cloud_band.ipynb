{
 "cells": [
  {
   "attachments": {},
   "cell_type": "markdown",
   "id": "a68e52f2",
   "metadata": {},
   "source": [
    "### This script creates a map of a cloud band and shows the properties: orientation, centroid and ellipse around the cloud band (blob)"
   ]
  },
  {
   "attachments": {},
   "cell_type": "markdown",
   "id": "30fa41fc",
   "metadata": {},
   "source": [
    "#### Importation of appropriate packages"
   ]
  },
  {
   "cell_type": "code",
   "execution_count": 1,
   "id": "f1cbd463",
   "metadata": {},
   "outputs": [],
   "source": [
    "import os\n",
    "import warnings\n",
    "import datetime as dt\n",
    "\n",
    "import numpy as np\n",
    "import matplotlib as mpl\n",
    "import matplotlib.pyplot as plt\n",
    "from matplotlib.ticker import MultipleLocator\n",
    "from matplotlib.patches import Ellipse\n",
    "from skimage import measure\n",
    "\n",
    "import cartopy.crs as ccrs\n",
    "from cartopy.mpl.ticker import LongitudeFormatter, LatitudeFormatter\n",
    "LON_FORMAT = LongitudeFormatter(zero_direction_label=True, degree_symbol=\"\")\n",
    "LAT_FORMAT = LatitudeFormatter(degree_symbol=\"\")\n",
    "import cartopy.feature as cfeature\n",
    "from cartopy.mpl.ticker import LongitudeFormatter, LatitudeFormatter\n",
    "\n",
    "from cloudbandpy.io_utilities import load_ymlfile, add_startend_datetime2config\n",
    "from cloudbandpy.load_driver import run_load_data\n",
    "from cloudbandpy.cb_detection import detection_workflow\n",
    "from cloudbandpy.figure_tools import set_fontsize\n",
    "from cloudbandpy.misc import wrapTo180"
   ]
  },
  {
   "cell_type": "code",
   "execution_count": 2,
   "metadata": {},
   "outputs": [
    {
     "name": "stderr",
     "output_type": "stream",
     "text": [
      "2023-11-23 16:17:39,351 - io_utilities.load_ymlfile - INFO: Configuration file loaded\n"
     ]
    }
   ],
   "source": [
    "config_file = \"../config/config_cbworkflow_southPacific.yml\"\n",
    "config = load_ymlfile(config_file, isconfigfile=True)\n",
    "config_event = config.copy()\n",
    "# Changing configs to adapt to this particular example\n",
    "config_event[\"startdate\"] = \"20160418.00\"\n",
    "config_event[\"enddate\"] = \"20160418.00\"\n",
    "# update datetime dates from config file\n",
    "add_startend_datetime2config(config_event)\n",
    "dirdata = \"../data/\"\n",
    "config_event[\"clouddata_path\"] = os.path.join(\"../data\")\n",
    "config_event[\"parameters_file\"] = os.path.join(\n",
    "    \"../parameters/parameters_southhemisphere.yml\"\n",
    ")\n",
    "# No need to save any files\n",
    "config_event[\"saved_dirpath\"] = \"\"\n",
    "config_event[\"save_dailyvar\"] = False\n",
    "config_event[\"save_listcloudbands\"] = False"
   ]
  },
  {
   "cell_type": "code",
   "execution_count": 3,
   "metadata": {},
   "outputs": [
    {
     "name": "stderr",
     "output_type": "stream",
     "text": [
      "2023-11-23 16:17:39,359 - load_driver.run_load_data - INFO: Loading data and parameters \n",
      "2023-11-23 16:17:39,363 - io_utilities.load_ymlfile - INFO: Parameters file loaded\n",
      "2023-11-23 16:17:39,364 - io_utilities.load_dataset - INFO: Loading dataset from ../data\n",
      "2023-11-23 16:17:39,364 - io_utilities.load_dataset - INFO: Loading 2016 --> 2016\n"
     ]
    }
   ],
   "source": [
    "olr2process, parameters, listofdates, lats, lons, resolution = run_load_data(\n",
    "    config_event\n",
    ")"
   ]
  },
  {
   "cell_type": "code",
   "execution_count": null,
   "metadata": {},
   "outputs": [],
   "source": [
    "(\n",
    "    _,\n",
    "    _,\n",
    "    _,\n",
    "    _,\n",
    "    cloud_bands_over_time,\n",
    "    _,\n",
    ") = detection_workflow(\n",
    "    var2process=olr2process,\n",
    "    parameters=parameters,\n",
    "    latitudes=lats,\n",
    "    longitudes=lons,\n",
    "    resolution=resolution,\n",
    "    listofdates=listofdates,\n",
    "    config=config,\n",
    ")"
   ]
  },
  {
   "cell_type": "code",
   "execution_count": null,
   "metadata": {},
   "outputs": [],
   "source": [
    "print(lats.shape)\n",
    "print(lons.shape)\n",
    "print(cloud_bands_over_time.shape)"
   ]
  },
  {
   "cell_type": "code",
   "execution_count": null,
   "metadata": {},
   "outputs": [],
   "source": [
    "cloud_bands = np.copy(cloud_bands_over_time[0])\n"
   ]
  },
  {
   "cell_type": "code",
   "execution_count": null,
   "metadata": {},
   "outputs": [],
   "source": [
    "blobs_regionprops = measure.regionprops(cloud_bands)"
   ]
  },
  {
   "cell_type": "code",
   "execution_count": null,
   "metadata": {},
   "outputs": [],
   "source": [
    "set_fontsize(16)\n",
    "\n",
    "fig, ax = plt.subplots(\n",
    "    figsize=(8, 6),\n",
    "    subplot_kw={\"projection\": ccrs.PlateCarree(central_longitude=180)},\n",
    ")\n",
    "\n",
    "cloud_bands_masked = np.ma.masked_where(cloud_bands == 0, cloud_bands)\n",
    "ax.contourf(\n",
    "    lons, lats, cloud_bands_masked, transform=ccrs.PlateCarree(), cmap=\"gray_r\"\n",
    ")\n",
    "\n",
    "for props in blobs_regionprops:\n",
    "    centroid = props.centroid\n",
    "    x_centroid, y_centroid = (\n",
    "        lons[int(centroid[1])].item(),\n",
    "        lats[int(centroid[0])].item(),\n",
    "    )\n",
    "\n",
    "    # Extract ellipse properties\n",
    "    major_axis_length = props.major_axis_length\n",
    "    minor_axis_length = props.minor_axis_length\n",
    "    orientation = props.orientation\n",
    "    angle_deg = (orientation * 360) / (2 * np.pi)\n",
    "\n",
    "    ax.scatter(\n",
    "        x_centroid,\n",
    "        y_centroid,\n",
    "        color=\"g\",\n",
    "        marker=\"o\",\n",
    "        s=40,\n",
    "        transform=ccrs.PlateCarree(),\n",
    "    )\n",
    "\n",
    "    # Create and plot the ellipse with proper orientation\n",
    "    ellipse = Ellipse(\n",
    "        (x_centroid, y_centroid),\n",
    "        width=major_axis_length * 0.5,\n",
    "        height=minor_axis_length * 0.5,\n",
    "        angle=angle_deg - 90,\n",
    "        edgecolor=\"blue\",\n",
    "        facecolor=\"none\",\n",
    "        linewidth=2,\n",
    "        transform=ccrs.PlateCarree(),\n",
    "    )\n",
    "    ax.add_patch(ellipse)\n",
    "\n",
    "    # Plot major and minor axes using the provided code\n",
    "    x0, y0 = x_centroid, y_centroid\n",
    "    x1 = x0 + np.cos(orientation) * 0.25 * minor_axis_length\n",
    "    y1 = y0 + np.sin(orientation) * 0.25 * minor_axis_length\n",
    "    x2 = x0 - np.sin(orientation) * 0.25 * major_axis_length\n",
    "    y2 = y0 + np.cos(orientation) * 0.25 * major_axis_length\n",
    "\n",
    "    ax.plot((x0, x2), (y0, y2), \"--r\", linewidth=2.5, transform=ccrs.PlateCarree())\n",
    "    ax.plot((x0, x1), (y0, y1), \"--r\", linewidth=2.5, transform=ccrs.PlateCarree())\n",
    "    ax.text(\n",
    "        x0 + 3,\n",
    "        y0 - 2,\n",
    "        str(int(angle_deg)) + r\"°\",\n",
    "        color=\"k\",\n",
    "        transform=ccrs.PlateCarree(),\n",
    "    )\n",
    "\n",
    "lat_north, lat_south = 10, -45\n",
    "lonticks = np.concatenate((np.arange(0, 180, 20), np.arange(-180, 0, 20)))\n",
    "latticks = np.arange(-50, 20, 10)\n",
    "ax.set_yticks(latticks, crs=ccrs.PlateCarree())\n",
    "ax.set_xticks(lonticks, crs=ccrs.PlateCarree())\n",
    "ax.xaxis.set_major_formatter(LON_FORMAT)\n",
    "ax.yaxis.set_major_formatter(LAT_FORMAT)\n",
    "ax.yaxis.set_minor_locator(MultipleLocator(5))\n",
    "ax.xaxis.set_minor_locator(MultipleLocator(5))\n",
    "ax.coastlines(\"50m\", color=\"#404040\")\n",
    "ax.set_extent([wrapTo180(lons)[-1], wrapTo180(lons)[0], lat_south, lat_north])\n",
    "ax.set_ylim([lat_south, lat_north])\n",
    "original_startdate = config_event['startdate']\n",
    "datetime_obj = dt.datetime.strptime(original_startdate, '%Y%m%d.%H')\n",
    "formatted_startdate = datetime_obj.strftime('%Y-%m-%d')\n",
    "\n",
    "\n",
    "plt.savefig(\n",
    "    f\"./ellipse_{formatted_startdate}.png\",\n",
    "    dpi=200,\n",
    "    bbox_inches=\"tight\",\n",
    ")"
   ]
  }
 ],
 "metadata": {
  "kernelspec": {
   "display_name": "env_test",
   "language": "python",
   "name": "python3"
  },
  "language_info": {
   "codemirror_mode": {
    "name": "ipython",
    "version": 3
   },
   "file_extension": ".py",
   "mimetype": "text/x-python",
   "name": "python",
   "nbconvert_exporter": "python",
   "pygments_lexer": "ipython3",
   "version": "3.9.13"
  }
 },
 "nbformat": 4,
 "nbformat_minor": 5
}
