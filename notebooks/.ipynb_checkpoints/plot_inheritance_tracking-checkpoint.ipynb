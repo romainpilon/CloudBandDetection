{
 "cells": [
  {
   "cell_type": "code",
   "execution_count": 1,
   "id": "bff03cb0",
   "metadata": {},
   "outputs": [],
   "source": [
    "import cartopy.crs as ccrs\n",
    "from cartopy.mpl.ticker import LongitudeFormatter, LatitudeFormatter\n",
    "import numpy as np\n",
    "import os, sys\n",
    "import warnings\n",
    "warnings.filterwarnings('ignore')\n",
    "\n",
    "from cloudbandpy.tracking import plot_tracking_on_map\n",
    "from cloudbandpy.io_utilities import load_ymlfile, load_data_from_saved_var_files\n",
    "from cloudbandpy.time_utilities import create_list_of_dates, add_startend_datetime2config"
   ]
  },
  {
   "cell_type": "markdown",
   "id": "75658889",
   "metadata": {},
   "source": [
    "#### Load configuration file and make adjustements for this test case"
   ]
  },
  {
   "cell_type": "markdown",
   "id": "6828cbdd",
   "metadata": {},
   "source": []
  },
  {
   "cell_type": "code",
   "execution_count": 2,
   "id": "6dbbad28",
   "metadata": {},
   "outputs": [
    {
     "name": "stderr",
     "output_type": "stream",
     "text": [
      "2023-05-02 11:40:15,710 - io_utilities.load_ymlfile - INFO: Configuration file loaded\n"
     ]
    },
    {
     "name": "stdout",
     "output_type": "stream",
     "text": [
      "Example data exists: True\n"
     ]
    }
   ],
   "source": [
    "config_file = \"../config/config_analysis.yml\"\n",
    "config = load_ymlfile(config_file, isconfigfile=True)\n",
    "# Make sure that the period for the cloud bands cover the same period as the example data\n",
    "config[\"startdate\"] = \"20210219.00\"\n",
    "config[\"enddate\"] = \"20210228.00\"\n",
    "config[\"saved_dirpath\"] = \"../data/\"\n",
    "\n",
    "print(\"Example data exists:\", os.path.isfile(config['saved_dirpath']+\"/list_of_cloud_bands\"+config['startdate']+\"-\"+config['enddate']+\"-\"+config['domain']+\".pickle\")) \n"
   ]
  },
  {
   "cell_type": "markdown",
   "id": "b7d233e9",
   "metadata": {},
   "source": [
    "#### Load cloud bands from the South Pacific for the dates specified in the analyses config file"
   ]
  },
  {
   "cell_type": "code",
   "execution_count": 3,
   "id": "3d42cc6a",
   "metadata": {},
   "outputs": [
    {
     "name": "stdout",
     "output_type": "stream",
     "text": [
      "10 dates created from 2021-02-19 00:00:00 to 2021-02-28 00:00:00\n"
     ]
    }
   ],
   "source": [
    "add_startend_datetime2config(config)\n",
    "listofdates = create_list_of_dates(config)\n",
    "print(str(len(listofdates))+\" dates created from \"+str(listofdates[0])+\" to \"+str(listofdates[-1]))"
   ]
  },
  {
   "cell_type": "code",
   "execution_count": 4,
   "id": "993eefe4",
   "metadata": {},
   "outputs": [
    {
     "name": "stderr",
     "output_type": "stream",
     "text": [
      "2023-05-02 11:40:26,181 - io_utilities.load_data_from_saved_var_files - INFO: Load data from: 20210219.00 to 20210228.00\n"
     ]
    },
    {
     "name": "stdout",
     "output_type": "stream",
     "text": [
      "{'domain': 'southPacific', 'startdate': '20210219.00', 'enddate': '20210228.00', 'saved_dirpath': '../data/', 'dir_figures': './cloud_band_figures/', 'load_saved_files': True, 'period_detection': 24.0, 'select_djfm': False, 'hemisphere': 'south', 'lon_west': 130, 'lon_east': 290, 'lat_north': 5, 'lat_south': -50, 'datetime_startdate': datetime.datetime(2021, 2, 19, 0, 0), 'datetime_enddate': datetime.datetime(2021, 2, 28, 0, 0)}\n"
     ]
    },
    {
     "ename": "ModuleNotFoundError",
     "evalue": "No module named 'cloudband'",
     "output_type": "error",
     "traceback": [
      "\u001b[0;31m---------------------------------------------------------------------------\u001b[0m",
      "\u001b[0;31mModuleNotFoundError\u001b[0m                       Traceback (most recent call last)",
      "Cell \u001b[0;32mIn[4], line 3\u001b[0m\n\u001b[1;32m      1\u001b[0m \u001b[38;5;66;03m# Load one year of cloud bands\u001b[39;00m\n\u001b[1;32m      2\u001b[0m \u001b[38;5;28mprint\u001b[39m(config)\n\u001b[0;32m----> 3\u001b[0m list_of_cloud_bands \u001b[38;5;241m=\u001b[39m \u001b[43mload_data_from_saved_var_files\u001b[49m\u001b[43m(\u001b[49m\u001b[43mconfig\u001b[49m\u001b[43m,\u001b[49m\u001b[43m \u001b[49m\u001b[43mvarname\u001b[49m\u001b[38;5;241;43m=\u001b[39;49m\u001b[38;5;124;43m\"\u001b[39;49m\u001b[38;5;124;43mlist_of_cloud_bands\u001b[39;49m\u001b[38;5;124;43m\"\u001b[39;49m\u001b[43m)\u001b[49m\n\u001b[1;32m      4\u001b[0m \u001b[38;5;28mprint\u001b[39m(\u001b[38;5;28mlen\u001b[39m(list_of_cloud_bands),\u001b[38;5;124m\"\u001b[39m\u001b[38;5;124mdays of cloud bands\u001b[39m\u001b[38;5;124m\"\u001b[39m)\n",
      "File \u001b[0;32m~/Documents/Sciences/atmospheric_codes/unil/cloudbandPy/src/cloudbandpy/io_utilities.py:290\u001b[0m, in \u001b[0;36mload_data_from_saved_var_files\u001b[0;34m(config, varname)\u001b[0m\n\u001b[1;32m    288\u001b[0m         \u001b[38;5;28;01mif\u001b[39;00m config[\u001b[38;5;124m\"\u001b[39m\u001b[38;5;124mselect_djfm\u001b[39m\u001b[38;5;124m\"\u001b[39m]:\n\u001b[1;32m    289\u001b[0m             filename \u001b[38;5;241m=\u001b[39m filename\u001b[38;5;241m.\u001b[39mrsplit(\u001b[38;5;124m\"\u001b[39m\u001b[38;5;124m.\u001b[39m\u001b[38;5;124m\"\u001b[39m, \u001b[38;5;241m1\u001b[39m)[\u001b[38;5;241m0\u001b[39m] \u001b[38;5;241m+\u001b[39m \u001b[38;5;124m\"\u001b[39m\u001b[38;5;124m_djfm\u001b[39m\u001b[38;5;124m\"\u001b[39m \u001b[38;5;241m+\u001b[39m \u001b[38;5;124m\"\u001b[39m\u001b[38;5;124m.pickle\u001b[39m\u001b[38;5;124m\"\u001b[39m\n\u001b[0;32m--> 290\u001b[0m         var4oneyear \u001b[38;5;241m=\u001b[39m \u001b[43mload_pickledata\u001b[49m\u001b[43m(\u001b[49m\u001b[43mfilename\u001b[49m\u001b[38;5;241;43m=\u001b[39;49m\u001b[43mfilename\u001b[49m\u001b[43m,\u001b[49m\u001b[43m \u001b[49m\u001b[43mconfig\u001b[49m\u001b[38;5;241;43m=\u001b[39;49m\u001b[43mconfig\u001b[49m\u001b[43m,\u001b[49m\u001b[43m \u001b[49m\u001b[43mvarname\u001b[49m\u001b[38;5;241;43m=\u001b[39;49m\u001b[43mvarname\u001b[49m\u001b[43m)\u001b[49m\n\u001b[1;32m    291\u001b[0m         datalist\u001b[38;5;241m.\u001b[39mextend(var4oneyear)\n\u001b[1;32m    292\u001b[0m \u001b[38;5;28;01melif\u001b[39;00m varname \u001b[38;5;241m==\u001b[39m \u001b[38;5;124m\"\u001b[39m\u001b[38;5;124mdaily_variable\u001b[39m\u001b[38;5;124m\"\u001b[39m:\n",
      "File \u001b[0;32m~/Documents/Sciences/atmospheric_codes/unil/cloudbandPy/src/cloudbandpy/io_utilities.py:268\u001b[0m, in \u001b[0;36mload_pickledata\u001b[0;34m(filename, config, varname)\u001b[0m\n\u001b[1;32m    266\u001b[0m     \u001b[38;5;28;01mraise\u001b[39;00m \u001b[38;5;167;01mFileNotFoundError\u001b[39;00m(\u001b[38;5;124mf\u001b[39m\u001b[38;5;124m\"\u001b[39m\u001b[38;5;132;01m{\u001b[39;00mfilepath\u001b[38;5;132;01m}\u001b[39;00m\u001b[38;5;124m not found.\u001b[39m\u001b[38;5;124m\"\u001b[39m)\n\u001b[1;32m    267\u001b[0m \u001b[38;5;28;01mexcept\u001b[39;00m \u001b[38;5;167;01mException\u001b[39;00m \u001b[38;5;28;01mas\u001b[39;00m e:\n\u001b[0;32m--> 268\u001b[0m     \u001b[38;5;28;01mraise\u001b[39;00m e\n\u001b[1;32m    270\u001b[0m \u001b[38;5;28;01mreturn\u001b[39;00m var2load\n",
      "File \u001b[0;32m~/Documents/Sciences/atmospheric_codes/unil/cloudbandPy/src/cloudbandpy/io_utilities.py:264\u001b[0m, in \u001b[0;36mload_pickledata\u001b[0;34m(filename, config, varname)\u001b[0m\n\u001b[1;32m    262\u001b[0m \u001b[38;5;28;01mtry\u001b[39;00m:\n\u001b[1;32m    263\u001b[0m     \u001b[38;5;28;01mwith\u001b[39;00m \u001b[38;5;28mopen\u001b[39m(filepath, \u001b[38;5;124m\"\u001b[39m\u001b[38;5;124mrb\u001b[39m\u001b[38;5;124m\"\u001b[39m) \u001b[38;5;28;01mas\u001b[39;00m f:\n\u001b[0;32m--> 264\u001b[0m         var2load \u001b[38;5;241m=\u001b[39m \u001b[43mpickle\u001b[49m\u001b[38;5;241;43m.\u001b[39;49m\u001b[43mload\u001b[49m\u001b[43m(\u001b[49m\u001b[43mf\u001b[49m\u001b[43m,\u001b[49m\u001b[43m \u001b[49m\u001b[43mfix_imports\u001b[49m\u001b[38;5;241;43m=\u001b[39;49m\u001b[38;5;28;43;01mTrue\u001b[39;49;00m\u001b[43m)\u001b[49m\n\u001b[1;32m    265\u001b[0m \u001b[38;5;28;01mexcept\u001b[39;00m \u001b[38;5;167;01mFileNotFoundError\u001b[39;00m:\n\u001b[1;32m    266\u001b[0m     \u001b[38;5;28;01mraise\u001b[39;00m \u001b[38;5;167;01mFileNotFoundError\u001b[39;00m(\u001b[38;5;124mf\u001b[39m\u001b[38;5;124m\"\u001b[39m\u001b[38;5;132;01m{\u001b[39;00mfilepath\u001b[38;5;132;01m}\u001b[39;00m\u001b[38;5;124m not found.\u001b[39m\u001b[38;5;124m\"\u001b[39m)\n",
      "\u001b[0;31mModuleNotFoundError\u001b[0m: No module named 'cloudband'"
     ]
    }
   ],
   "source": [
    "# Load one year of cloud bands\n",
    "print(config)\n",
    "list_of_cloud_bands = load_data_from_saved_var_files(config, varname=\"list_of_cloud_bands\")\n",
    "print(len(list_of_cloud_bands),\"days of cloud bands\")"
   ]
  },
  {
   "cell_type": "markdown",
   "id": "33ff6ebf",
   "metadata": {},
   "source": [
    "#### Import longitudes and latitudes for the map"
   ]
  },
  {
   "cell_type": "code",
   "execution_count": null,
   "id": "ad7ae9d2",
   "metadata": {},
   "outputs": [],
   "source": [
    "lats_globe = np.load(dir_package + \"data/lats_globe0.5_ERA5.npy\")\n",
    "lons_globe = np.load(dir_package + \"data/lons_globe0.5_ERA5.npy\")\n",
    "# Get longitudes and latitudes of South Pacific domain\n",
    "lon_ids = [id for id, el in enumerate(lons_globe) if el <= config[\"lon_east\"] if el >= config[\"lon_west\"]]\n",
    "lonsSP = lons_globe[lon_ids]\n",
    "lat_ids = [id for id, el in enumerate(lats_globe) if el <= config[\"lat_north\"] if el >= config[\"lat_south\"]]\n",
    "latsSP = lats_globe[lat_ids]\n",
    "print(f\"Longitudes, min: {lonsSP.min()}, max: {lonsSP.max()}\")\n",
    "print(f\"Latitudes, min: {latsSP.min()}, max: {latsSP.max()}\")"
   ]
  },
  {
   "cell_type": "markdown",
   "id": "cd405baa",
   "metadata": {},
   "source": [
    "#### Create the series of map with connection lines between the centroid lcoation of each cloud bands"
   ]
  },
  {
   "cell_type": "code",
   "execution_count": null,
   "id": "81cf75b6",
   "metadata": {},
   "outputs": [],
   "source": [
    "plot_tracking_on_map(\n",
    "    list_of_cloud_bands=list_of_cloud_bands,\n",
    "    lons=lonsSP,\n",
    "    lats=latsSP,\n",
    "    listofdates=listofdates,\n",
    "    config=config,\n",
    "    show=True,\n",
    "    save=False,\n",
    ")"
   ]
  }
 ],
 "metadata": {
  "kernelspec": {
   "display_name": "Python 3 (ipykernel)",
   "language": "python",
   "name": "python3"
  },
  "language_info": {
   "codemirror_mode": {
    "name": "ipython",
    "version": 3
   },
   "file_extension": ".py",
   "mimetype": "text/x-python",
   "name": "python",
   "nbconvert_exporter": "python",
   "pygments_lexer": "ipython3",
   "version": "3.10.8"
  }
 },
 "nbformat": 4,
 "nbformat_minor": 5
}
