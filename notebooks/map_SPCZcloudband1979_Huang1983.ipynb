{
 "cells": [
  {
   "attachments": {},
   "cell_type": "markdown",
   "id": "a68e52f2",
   "metadata": {},
   "source": [
    "#### n the South Pacific."
   ]
  },
  {
   "attachments": {},
   "cell_type": "markdown",
   "id": "30fa41fc",
   "metadata": {},
   "source": [
    "Importation of appropriate packages"
   ]
  },
  {
   "cell_type": "code",
   "execution_count": 35,
   "id": "f1cbd463",
   "metadata": {},
   "outputs": [],
   "source": [
    "import os\n",
    "import warnings\n",
    "\n",
    "import numpy as np\n",
    "import matplotlib.pyplot as plt\n",
    "from matplotlib.ticker import MultipleLocator\n",
    "from datetime import datetime\n",
    "\n",
    "try:\n",
    "    import cartopy.crs as ccrs\n",
    "    from cartopy.mpl.ticker import LongitudeFormatter, LatitudeFormatter\n",
    "\n",
    "    LON_FORMAT = LongitudeFormatter(zero_direction_label=True, degree_symbol=\"\")\n",
    "    LAT_FORMAT = LatitudeFormatter(degree_symbol=\"\")\n",
    "except ModuleNotFoundError:\n",
    "    print(\"Cartopy is not installed. Figure will not be produced.\")\n",
    "\n",
    "warnings.filterwarnings(\"ignore\")\n",
    "\n",
    "\n",
    "from cloudbandpy.cb_detection import detection_workflow\n",
    "from cloudbandpy.time_utilities import create_list_of_dates, add_startend_datetime2config\n",
    "from cloudbandpy.misc import compute_resolution, wrapTo180\n",
    "from cloudbandpy.io_utilities import load_data_from_saved_var_files, load_ymlfile\n",
    "from cloudbandpy.figure_tools import set_fontsize"
   ]
  },
  {
   "attachments": {},
   "cell_type": "markdown",
   "id": "70592e97",
   "metadata": {},
   "source": [
    "Load configuration files"
   ]
  },
  {
   "cell_type": "code",
   "execution_count": 36,
   "id": "6e6eadc3",
   "metadata": {},
   "outputs": [
    {
     "name": "stderr",
     "output_type": "stream",
     "text": [
      "2023-05-10 18:34:20,722 - io_utilities.load_ymlfile - INFO: Configuration file loaded\n",
      "2023-05-10 18:34:20,725 - io_utilities.load_ymlfile - INFO: Parameters file loaded\n"
     ]
    }
   ],
   "source": [
    "# Load configuration file\n",
    "config_file = os.path.join(\"../config\", \"config_cbworkflow_southPacific.yml\")\n",
    "config = load_ymlfile(config_file, isconfigfile=True)\n",
    "# update configuration for this study\n",
    "config[\"parameters_file\"] = os.path.join(\"../parameters\", \"parameters_southhemisphere.yml\")\n",
    "config[\"clouddata_path\"] = os.path.join(\"../data\")\n",
    "# deactivate tracking for efficiency\n",
    "config[\"run_inheritance_tracking\"] = False\n",
    "config[\"saved_dirpath\"] = os.path.join(\"../data\")\n",
    "config[\"startdate\"] = \"19790110.00\"\n",
    "config[\"enddate\"] = \"19790118.00\"\n",
    "config[\"load_saved_files\"] = True\n",
    "add_startend_datetime2config(config)\n",
    "listofdates = create_list_of_dates(config)\n",
    "parameters = load_ymlfile(config[\"parameters_file\"])"
   ]
  },
  {
   "attachments": {},
   "cell_type": "markdown",
   "id": "87b77450",
   "metadata": {},
   "source": [
    "Setting up domain like Huang and Vincent (1983)"
   ]
  },
  {
   "cell_type": "code",
   "execution_count": 37,
   "id": "6e9bc729",
   "metadata": {},
   "outputs": [
    {
     "name": "stderr",
     "output_type": "stream",
     "text": [
      "2023-05-10 18:34:20,753 - io_utilities.load_ymlfile - INFO: Parameters file loaded\n"
     ]
    }
   ],
   "source": [
    "config[\"lon_west\"] = 170\n",
    "config[\"lon_east\"] = 250\n",
    "config[\"lat_north\"] = 10\n",
    "config[\"lat_south\"] = -50\n",
    "# Create longitudes and latitudes for the specific region\n",
    "resolution_era5 = 0.5  # degree\n",
    "lons_globe = np.arange(0, 360, 0.5)\n",
    "lats = np.arange(config[\"lat_north\"], config[\"lat_south\"] - resolution_era5, -resolution_era5)\n",
    "lons = np.arange(config[\"lon_west\"], config[\"lon_east\"] + resolution_era5, resolution_era5)\n",
    "resolution = compute_resolution(lons, lats)\n",
    "# Load parameters directly from directory\n",
    "parameters = load_ymlfile(config[\"parameters_file\"])"
   ]
  },
  {
   "attachments": {},
   "cell_type": "markdown",
   "id": "2028cd08",
   "metadata": {},
   "source": [
    "Load data and detect cloud bands from the first part of the event"
   ]
  },
  {
   "cell_type": "code",
   "execution_count": 38,
   "id": "c5296ac2",
   "metadata": {},
   "outputs": [
    {
     "name": "stderr",
     "output_type": "stream",
     "text": [
      "2023-05-10 18:34:20,770 - io_utilities.load_data_from_saved_var_files - INFO: Load data from: 19790110.00 to 19790118.00\n",
      "2023-05-10 18:34:20,772 - cb_detection.detection_workflow - INFO: Cloud band detection in progress\n",
      "2023-05-10 18:34:20,790 - cb_detection.detection_workflow - INFO: Cloud band detection done\n"
     ]
    },
    {
     "name": "stdout",
     "output_type": "stream",
     "text": [
      "Number of cloud bands per day:\n",
      "Day 0: 1 cloud band(s)\n",
      "Day 1: 1 cloud band(s)\n",
      "Day 2: 1 cloud band(s)\n",
      "Day 3: 1 cloud band(s)\n",
      "Day 4: 1 cloud band(s)\n",
      "Day 5: 1 cloud band(s)\n",
      "Day 6: 1 cloud band(s)\n",
      "Day 7: 1 cloud band(s)\n",
      "Day 8: 1 cloud band(s)\n"
     ]
    }
   ],
   "source": [
    "# Load OLR data from the first part of this specific event from the saved .npy data\n",
    "olr1018jan1979 = load_data_from_saved_var_files(config, varname=\"daily_variable\")\n",
    "\n",
    "(_, _, _, _, _, list_of_cloud_bands1018jan1979) = detection_workflow(\n",
    "            var2process=olr1018jan1979,\n",
    "            parameters=parameters,\n",
    "            latitudes=lats,\n",
    "            longitudes=lons,\n",
    "            resolution=resolution,\n",
    "            listofdates=listofdates,\n",
    "            config=config,\n",
    "        )\n",
    "print(\"Number of cloud bands per day:\")\n",
    "for iday, el in enumerate(list_of_cloud_bands1018jan1979):\n",
    "    print(f\"Day {iday}: {len(el)} cloud band(s)\")\n",
    "\n",
    "# Average cloud band arrays to match Figure 1 (top) from Huand and Vincent (1983).\n",
    "# There is one cloud band per day, so we simplify.\n",
    "mean_cloudbands1018jan1979 = np.mean([el[0].cloud_band_array for el in list_of_cloud_bands1018jan1979], axis=0)"
   ]
  },
  {
   "attachments": {},
   "cell_type": "markdown",
   "id": "d3354e42",
   "metadata": {},
   "source": [
    "Update config file for the second part of the event and detect cloud bands"
   ]
  },
  {
   "cell_type": "code",
   "execution_count": 39,
   "id": "1ab58f93",
   "metadata": {},
   "outputs": [
    {
     "name": "stderr",
     "output_type": "stream",
     "text": [
      "2023-05-10 18:34:20,807 - io_utilities.load_data_from_saved_var_files - INFO: Load data from: 19790119.00 to 19790124.00\n",
      "2023-05-10 18:34:20,809 - cb_detection.detection_workflow - INFO: Cloud band detection in progress\n",
      "2023-05-10 18:34:20,821 - cb_detection.detection_workflow - INFO: Cloud band detection done\n"
     ]
    },
    {
     "name": "stdout",
     "output_type": "stream",
     "text": [
      "Number of cloud bands per day:\n",
      "Day 0: 1 cloud band(s)\n",
      "Day 1: 1 cloud band(s)\n",
      "Day 2: 1 cloud band(s)\n",
      "Day 3: 1 cloud band(s)\n",
      "Day 4: 1 cloud band(s)\n",
      "Day 5: 1 cloud band(s)\n"
     ]
    }
   ],
   "source": [
    "config_copy = config.copy()\n",
    "config_copy[\"startdate\"] = \"19790119.00\"\n",
    "config_copy[\"enddate\"] = \"19790124.00\"\n",
    "add_startend_datetime2config(config_copy)\n",
    "listofdates = create_list_of_dates(config_copy)\n",
    "\n",
    "# Load data\n",
    "olr1924jan1979 = load_data_from_saved_var_files(config_copy, varname=\"daily_variable\")\n",
    "\n",
    "# # Detection\n",
    "(_, _, _, _, _, list_of_cloud_bands1924jan1979) = detection_workflow(\n",
    "    var2process=olr1924jan1979,\n",
    "    parameters=parameters,\n",
    "    latitudes=lats,\n",
    "    longitudes=lons,\n",
    "    resolution=resolution,\n",
    "    listofdates=listofdates,\n",
    "    config=config_copy,\n",
    ")\n",
    "print(\"Number of cloud bands per day:\")\n",
    "for iday, el in enumerate(list_of_cloud_bands1924jan1979):\n",
    "    print(f\"Day {iday}: {len(el)} cloud band(s)\")\n",
    "\n",
    "# Average cloud band arrays to match Figure 1 (top) from Huand and Vincent (1983).\n",
    "# There is one cloud band per day, so we simplify.\n",
    "mean_cloudbands1924jan1979 = np.mean([el[0].cloud_band_array for el in list_of_cloud_bands1924jan1979], axis=0)"
   ]
  },
  {
   "attachments": {},
   "cell_type": "markdown",
   "id": "c6d6d369",
   "metadata": {},
   "source": [
    "Create a map of the mean of cloud bands"
   ]
  },
  {
   "cell_type": "code",
   "execution_count": 40,
   "id": "d64b9beb",
   "metadata": {},
   "outputs": [
    {
     "data": {
      "image/png": "[encoded data removed]",
      "text/plain": [
       "<Figure size 800x600 with 3 Axes>"
      ]
     },
     "metadata": {},
     "output_type": "display_data"
    }
   ],
   "source": [
    "date_format = \"%Y%m%d.%S\"\n",
    "\n",
    "lat_north, lat_south = 10, -45\n",
    "lonticks = np.concatenate((np.arange(0, 180, 20), np.arange(-180, 0, 20)))\n",
    "latticks = np.arange(-50, 20, 10)\n",
    "\n",
    "set_fontsize()\n",
    "\n",
    "fig, ax = plt.subplots(\n",
    "    1, 2, figsize=(8, 6), sharey=True,\n",
    "    subplot_kw={\"projection\": ccrs.PlateCarree(central_longitude=180)},\n",
    ")\n",
    "ax[0].contourf(\n",
    "    lons,\n",
    "    lats,\n",
    "    np.ma.masked_where(mean_cloudbands1018jan1979 == 0, mean_cloudbands1018jan1979),\n",
    "    transform=ccrs.PlateCarree(),\n",
    "    levels = np.arange(0, 1.1, .1),\n",
    "    cmap=\"Blues\"\n",
    ")\n",
    "ax[0].set_yticks(latticks, crs=ccrs.PlateCarree())\n",
    "ax[0].set_xticks(lonticks, crs=ccrs.PlateCarree())\n",
    "ax[0].xaxis.set_major_formatter(LON_FORMAT)\n",
    "ax[0].yaxis.set_major_formatter(LAT_FORMAT)\n",
    "ax[0].yaxis.set_minor_locator(MultipleLocator(5))\n",
    "ax[0].xaxis.set_minor_locator(MultipleLocator(5))\n",
    "ax[0].coastlines(\"50m\", color=\"#404040\")\n",
    "ax[0].set_extent([wrapTo180(lons)[-1], wrapTo180(lons)[0], lat_south, lat_north])\n",
    "ax[0].set_ylim([lat_south, lat_north])\n",
    "ax[0].set_title(f\"a) 10-18 Jan 1979\", loc=\"left\", fontsize=11)\n",
    "\n",
    "\n",
    "fill = ax[1].contourf(\n",
    "    lons,\n",
    "    lats,\n",
    "    np.ma.masked_where(mean_cloudbands1924jan1979 == 0, mean_cloudbands1924jan1979),\n",
    "    transform=ccrs.PlateCarree(),\n",
    "    levels = np.arange(0, 1.1, .1),\n",
    "    cmap=\"Blues\"\n",
    ")\n",
    "ax[1].set_yticks(latticks, crs=ccrs.PlateCarree())\n",
    "ax[1].set_xticks(lonticks, crs=ccrs.PlateCarree())\n",
    "ax[1].xaxis.set_major_formatter(LON_FORMAT)\n",
    "ax[1].yaxis.set_major_formatter(LAT_FORMAT)\n",
    "ax[1].yaxis.set_minor_locator(MultipleLocator(5))\n",
    "ax[1].xaxis.set_minor_locator(MultipleLocator(5))\n",
    "ax[1].coastlines(\"50m\", color=\"#404040\")\n",
    "ax[1].set_extent([wrapTo180(lons)[-1], wrapTo180(lons)[0], lat_south, lat_north])\n",
    "ax[1].set_ylim([lat_south, lat_north])\n",
    "ax[1].set_title(f\"b) 19-24 Jan 1979\", loc=\"left\", fontsize=11)\n",
    "\n",
    "fig.subplots_adjust(right=0.85)\n",
    "cbar_ax = fig.add_axes([0.88, 0.345, 0.03, 0.3])\n",
    "cbar = fig.colorbar(fill, cax=cbar_ax)\n",
    "cbar.set_label(\"Fraction of cloud bands per day\")\n",
    "\n",
    "plt.show()"
   ]
  }
 ],
 "metadata": {
  "kernelspec": {
   "display_name": "env_test",
   "language": "python",
   "name": "python3"
  },
  "language_info": {
   "codemirror_mode": {
    "name": "ipython",
    "version": 3
   },
   "file_extension": ".py",
   "mimetype": "text/x-python",
   "name": "python",
   "nbconvert_exporter": "python",
   "pygments_lexer": "ipython3",
   "version": "3.10.8"
  }
 },
 "nbformat": 4,
 "nbformat_minor": 5
}
