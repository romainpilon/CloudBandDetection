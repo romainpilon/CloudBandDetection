{
 "cells": [
  {
   "cell_type": "markdown",
   "metadata": {},
   "source": [
    "Create a histogram showing the distribution of cloud band area for 2 periods: DJFM and full years\n",
    "\n",
    "Run: python cloudbandPy/analysis/run_analysis_plot_histogram_cb_area.py cloudbandPy/config/config_analysis.yml"
   ]
  },
  {
   "cell_type": "code",
   "execution_count": 7,
   "metadata": {},
   "outputs": [],
   "source": [
    "import matplotlib.pyplot as plt\n",
    "import matplotlib as mpl\n",
    "import numpy as np\n",
    "import os, sys\n",
    "\n",
    "\n",
    "from cloudbandpy.figure_tools import set_fontsize\n",
    "from cloudbandpy.io_utilities import load_ymlfile, load_data_from_saved_var_files\n",
    "from cloudbandpy.misc import parse_arguments\n",
    "from cloudbandpy.time_utilities import add_startend_datetime2config"
   ]
  },
  {
   "cell_type": "markdown",
   "metadata": {},
   "source": [
    "Functions for bins for histograms"
   ]
  },
  {
   "cell_type": "code",
   "execution_count": 8,
   "metadata": {},
   "outputs": [],
   "source": [
    "def create_bins(min_value=0.01, max_value=100, stepbins=5):\n",
    "    bins = np.linspace(min_value, max_value, stepbins)\n",
    "    return bins\n",
    "\n",
    "\n",
    "def pdfbinned(bins, variable):\n",
    "    qt = [0] * bins\n",
    "    for idx, q in enumerate(bins):\n",
    "        if idx < np.size(bins) - 1:\n",
    "            qabove = bins[idx + 1]\n",
    "            pts = [i for i in range(len(variable)) if q <= variable[i] < qabove]\n",
    "            Ps = [variable[p] for p in pts]\n",
    "        elif idx == np.size(bins) - 1:\n",
    "            continue\n",
    "        qt[idx] = np.size(Ps) / float(len(variable))\n",
    "    return qt"
   ]
  },
  {
   "cell_type": "markdown",
   "metadata": {},
   "source": [
    "Load cloud bands"
   ]
  },
  {
   "cell_type": "code",
   "execution_count": 12,
   "metadata": {},
   "outputs": [
    {
     "name": "stderr",
     "output_type": "stream",
     "text": [
      "2023-12-08 16:08:57,171 - io_utilities.load_ymlfile - INFO: Configuration file loaded\n",
      "2023-12-08 16:08:57,172 - io_utilities.load_data_from_saved_var_files - WARNING: Check your config file and if you have saved any data\n"
     ]
    }
   ],
   "source": [
    "base_dir = \"../\"\n",
    "\n",
    "config_file = os.path.join(base_dir, \"config\", \"config_cbworkflow_northernhemisphere.yml\")\n",
    "config = load_ymlfile(config_file, isconfigfile=True)\n",
    "# Make sure the dates are covering the whole period\n",
    "config_copy = config.copy()\n",
    "config_copy[\"startdate\"] = \"19590101.00\"\n",
    "config_copy[\"enddate\"] = \"20211231.00\"\n",
    "add_startend_datetime2config(config_copy)\n",
    "\n",
    "list_of_cloud_bandsSP = load_data_from_saved_var_files(config_copy, varname=\"list_of_cloud_bands\")\n",
    "# flatten list of cloud band areas\n",
    "# cb_areaSP = [cb.area for sublist in list_of_cloud_bandsSP for cb in sublist]\n"
   ]
  },
  {
   "cell_type": "markdown",
   "metadata": {},
   "source": [
    "Function for figure"
   ]
  },
  {
   "cell_type": "code",
   "execution_count": 4,
   "metadata": {},
   "outputs": [],
   "source": [
    "def plot_distribution_cb_area(cbarea1, cbarea2):\n",
    "    # Distribution\n",
    "    bins = create_bins(min_value=min(cbarea1), max_value=max(cbarea1), stepbins=100)\n",
    "    qt1 = pdfbinned(bins, cbarea1)\n",
    "    qt2 = pdfbinned(bins, cbarea2)\n",
    "    # Figure\n",
    "    set_fontsize(size=14)\n",
    "    mpl.rcParams[\"axes.spines.left\"] = True\n",
    "    mpl.rcParams[\"axes.spines.right\"] = False\n",
    "    mpl.rcParams[\"axes.spines.top\"] = False\n",
    "    mpl.rcParams[\"axes.spines.bottom\"] = True\n",
    "    #\n",
    "    yearstart = config[\"datetime_startdate\"].year\n",
    "    yearend = config[\"datetime_enddate\"].year\n",
    "    fig, ax = plt.subplots()\n",
    "    ax.plot(bins, qt1, color=\"#3abc76\", label=f\"{yearstart}-{yearend}\")\n",
    "    ax.plot(bins, qt2, color=\"#3f4d89\", label=f\"{yearstart}-{yearend} DJFM\")\n",
    "    #\n",
    "    ax.set_yticks([el * 1e-2 for el in np.arange(0, 4.5, 0.5)])\n",
    "    ax.set_yticklabels([f\"{el:2.1f}\" for el in [el for el in np.arange(0, 4.5, 0.5)]])\n",
    "    ax.set_xticks([el * 1e7 for el in np.arange(0.25, 2.5, 0.25)])\n",
    "    ax.set_xticklabels([f\"{el:3.1f}\" for el in [el * 10 for el in np.arange(0.25, 2.5, 0.25)]])\n",
    "    ax.set(xlabel=r\"Cloud band area (10$^6\\,$m$^2$)\", ylabel=r\"Standardized distribution (10$^{-2}$)\")\n",
    "    plt.legend(framealpha=0.0)\n",
    "    return fig"
   ]
  }
 ],
 "metadata": {
  "kernelspec": {
   "display_name": "myenvpython",
   "language": "python",
   "name": "python3"
  },
  "language_info": {
   "codemirror_mode": {
    "name": "ipython",
    "version": 3
   },
   "file_extension": ".py",
   "mimetype": "text/x-python",
   "name": "python",
   "nbconvert_exporter": "python",
   "pygments_lexer": "ipython3",
   "version": "3.10.8"
  }
 },
 "nbformat": 4,
 "nbformat_minor": 2
}
