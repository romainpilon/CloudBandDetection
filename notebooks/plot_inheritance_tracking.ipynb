{
 "cells": [
  {
   "cell_type": "code",
   "execution_count": 1,
   "id": "bff03cb0",
   "metadata": {},
   "outputs": [
    {
     "ename": "ModuleNotFoundError",
     "evalue": "No module named 'utilities'",
     "output_type": "error",
     "traceback": [
      "\u001b[0;31m---------------------------------------------------------------------------\u001b[0m",
      "\u001b[0;31mModuleNotFoundError\u001b[0m                       Traceback (most recent call last)",
      "Cell \u001b[0;32mIn[1], line 8\u001b[0m\n\u001b[1;32m      5\u001b[0m \u001b[39mimport\u001b[39;00m \u001b[39mwarnings\u001b[39;00m\n\u001b[1;32m      6\u001b[0m warnings\u001b[39m.\u001b[39mfilterwarnings(\u001b[39m'\u001b[39m\u001b[39mignore\u001b[39m\u001b[39m'\u001b[39m)\n\u001b[0;32m----> 8\u001b[0m \u001b[39mfrom\u001b[39;00m \u001b[39mcloudbanddetection\u001b[39;00m\u001b[39m.\u001b[39;00m\u001b[39mtracking\u001b[39;00m \u001b[39mimport\u001b[39;00m plot_tracking_on_map\n\u001b[1;32m      9\u001b[0m \u001b[39mfrom\u001b[39;00m \u001b[39mcloudbanddetection\u001b[39;00m\u001b[39m.\u001b[39;00m\u001b[39mio_utilities\u001b[39;00m \u001b[39mimport\u001b[39;00m load_ymlfile, load_data_from_saved_var_files\n\u001b[1;32m     10\u001b[0m \u001b[39mfrom\u001b[39;00m \u001b[39mcloudbanddetection\u001b[39;00m\u001b[39m.\u001b[39;00m\u001b[39mtime_utilities\u001b[39;00m \u001b[39mimport\u001b[39;00m create_list_of_dates, add_startend_datetime2config\n",
      "File \u001b[0;32m~/Documents/Sciences/atmospheric_codes/unil/CloudBandDetection/src/cloudbanddetection/__init__.py:3\u001b[0m\n\u001b[1;32m      1\u001b[0m \u001b[39mfrom\u001b[39;00m \u001b[39m.\u001b[39;00m\u001b[39mcloudband\u001b[39;00m \u001b[39mimport\u001b[39;00m CloudBand\n\u001b[1;32m      2\u001b[0m \u001b[39mfrom\u001b[39;00m \u001b[39m.\u001b[39;00m\u001b[39mtime_utilities\u001b[39;00m \u001b[39mimport\u001b[39;00m \u001b[39m*\u001b[39m\n\u001b[0;32m----> 3\u001b[0m \u001b[39mfrom\u001b[39;00m \u001b[39m.\u001b[39;00m\u001b[39mio_utilities\u001b[39;00m \u001b[39mimport\u001b[39;00m \u001b[39m*\u001b[39m\n\u001b[1;32m      4\u001b[0m \u001b[39mfrom\u001b[39;00m \u001b[39m.\u001b[39;00m\u001b[39mblob_tools\u001b[39;00m \u001b[39mimport\u001b[39;00m \u001b[39m*\u001b[39m\n\u001b[1;32m      5\u001b[0m \u001b[39mfrom\u001b[39;00m \u001b[39m.\u001b[39;00m\u001b[39mfigure_tools\u001b[39;00m \u001b[39mimport\u001b[39;00m \u001b[39m*\u001b[39m\n",
      "File \u001b[0;32m~/Documents/Sciences/atmospheric_codes/unil/CloudBandDetection/src/cloudbanddetection/io_utilities.py:17\u001b[0m\n\u001b[1;32m     14\u001b[0m \u001b[39mimport\u001b[39;00m \u001b[39mpickle\u001b[39;00m\n\u001b[1;32m     15\u001b[0m \u001b[39mimport\u001b[39;00m \u001b[39myaml\u001b[39;00m\n\u001b[0;32m---> 17\u001b[0m \u001b[39mfrom\u001b[39;00m \u001b[39mutilities\u001b[39;00m \u001b[39mimport\u001b[39;00m convert_olr_in_wm2, wrapTo180\n\u001b[1;32m     18\u001b[0m \u001b[39mfrom\u001b[39;00m \u001b[39mtime_utilities\u001b[39;00m \u001b[39mimport\u001b[39;00m add_startend_datetime2config, create_list_of_dates\n\u001b[1;32m     21\u001b[0m \u001b[39mdef\u001b[39;00m \u001b[39mlogging_setup\u001b[39m():\n",
      "\u001b[0;31mModuleNotFoundError\u001b[0m: No module named 'utilities'"
     ]
    }
   ],
   "source": [
    "import cartopy.crs as ccrs\n",
    "from cartopy.mpl.ticker import LongitudeFormatter, LatitudeFormatter\n",
    "import numpy as np\n",
    "import os, sys\n",
    "import warnings\n",
    "warnings.filterwarnings('ignore')\n",
    "\n",
    "from cloudbanddetection.tracking import plot_tracking_on_map\n",
    "from cloudbanddetection.io_utilities import load_ymlfile, load_data_from_saved_var_files\n",
    "from cloudbanddetection.time_utilities import create_list_of_dates, add_startend_datetime2config"
   ]
  },
  {
   "cell_type": "markdown",
   "id": "75658889",
   "metadata": {},
   "source": [
    "#### Load configuration file and make adjustements for this test case"
   ]
  },
  {
   "cell_type": "markdown",
   "id": "6828cbdd",
   "metadata": {},
   "source": []
  },
  {
   "cell_type": "code",
   "execution_count": null,
   "id": "6dbbad28",
   "metadata": {},
   "outputs": [],
   "source": [
    "config_file = \"../config/config_analysis.yml\"\n",
    "config = load_ymlfile(config_file, isconfigfile=True)\n",
    "# Make sure that the period for the cloud bands cover the same period as the example data\n",
    "config[\"startdate\"] = \"20210219.00\"\n",
    "config[\"enddate\"] = \"20210228.00\"\n",
    "config[\"saved_dirpath\"] = \"../data/\"\n",
    "\n",
    "print(\"Example data exists:\", os.path.isfile(config['saved_dirpath']+\"/list_of_cloud_bands\"+config['startdate']+\"-\"+config['enddate']+\"-\"+config['domain']+\".pickle\")) \n"
   ]
  },
  {
   "attachments": {},
   "cell_type": "markdown",
   "id": "b7d233e9",
   "metadata": {},
   "source": [
    "#### Load cloud bands from the South Pacific for the dates specified in the analyses config file"
   ]
  },
  {
   "cell_type": "code",
   "execution_count": null,
   "id": "3d42cc6a",
   "metadata": {},
   "outputs": [],
   "source": [
    "add_startend_datetime2config(config)\n",
    "listofdates = create_list_of_dates(config)\n",
    "print(str(len(listofdates))+\" dates created from \"+str(listofdates[0])+\" to \"+str(listofdates[-1]))"
   ]
  },
  {
   "cell_type": "code",
   "execution_count": null,
   "id": "993eefe4",
   "metadata": {},
   "outputs": [],
   "source": [
    "# Load one year of cloud bands\n",
    "print(config)\n",
    "list_of_cloud_bands = load_data_from_saved_var_files(config, varname=\"list_of_cloud_bands\")\n",
    "print(len(list_of_cloud_bands),\"days of cloud bands\")"
   ]
  },
  {
   "cell_type": "markdown",
   "id": "33ff6ebf",
   "metadata": {},
   "source": [
    "#### Import longitudes and latitudes for the map"
   ]
  },
  {
   "cell_type": "code",
   "execution_count": null,
   "id": "ad7ae9d2",
   "metadata": {},
   "outputs": [],
   "source": [
    "lats_globe = np.load(dir_package + \"data/lats_globe0.5_ERA5.npy\")\n",
    "lons_globe = np.load(dir_package + \"data/lons_globe0.5_ERA5.npy\")\n",
    "# Get longitudes and latitudes of South Pacific domain\n",
    "lon_ids = [id for id, el in enumerate(lons_globe) if el <= config[\"lon_east\"] if el >= config[\"lon_west\"]]\n",
    "lonsSP = lons_globe[lon_ids]\n",
    "lat_ids = [id for id, el in enumerate(lats_globe) if el <= config[\"lat_north\"] if el >= config[\"lat_south\"]]\n",
    "latsSP = lats_globe[lat_ids]\n",
    "print(f\"Longitudes, min: {lonsSP.min()}, max: {lonsSP.max()}\")\n",
    "print(f\"Latitudes, min: {latsSP.min()}, max: {latsSP.max()}\")"
   ]
  },
  {
   "cell_type": "markdown",
   "id": "cd405baa",
   "metadata": {},
   "source": [
    "#### Create the series of map with connection lines between the centroid lcoation of each cloud bands"
   ]
  },
  {
   "cell_type": "code",
   "execution_count": null,
   "id": "81cf75b6",
   "metadata": {},
   "outputs": [],
   "source": [
    "plot_tracking_on_map(\n",
    "    list_of_cloud_bands=list_of_cloud_bands,\n",
    "    lons=lonsSP,\n",
    "    lats=latsSP,\n",
    "    listofdates=listofdates,\n",
    "    config=config,\n",
    "    show=True,\n",
    "    save=False,\n",
    ")"
   ]
  }
 ],
 "metadata": {
  "kernelspec": {
   "display_name": "env_test",
   "language": "python",
   "name": "python3"
  },
  "language_info": {
   "codemirror_mode": {
    "name": "ipython",
    "version": 3
   },
   "file_extension": ".py",
   "mimetype": "text/x-python",
   "name": "python",
   "nbconvert_exporter": "python",
   "pygments_lexer": "ipython3",
   "version": "3.10.8"
  }
 },
 "nbformat": 4,
 "nbformat_minor": 5
}
