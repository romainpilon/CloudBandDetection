{
 "cells": [
  {
   "cell_type": "code",
   "execution_count": null,
   "id": "bff03cb0",
   "metadata": {},
   "outputs": [],
   "source": [
    "import cartopy.crs as ccrs\n",
    "from cartopy.mpl.ticker import LongitudeFormatter, LatitudeFormatter\n",
    "import numpy as np\n",
    "import os, sys\n",
    "import warnings\n",
    "warnings.filterwarnings('ignore')\n",
    "\n",
    "from cloudbanddetection.tracking import plot_tracking_on_map\n",
    "from cloudbanddetection.io_utilities import load_ymlfile, load_data_from_saved_var_files\n",
    "from cloudbanddetection.time_utilities import create_list_of_dates, add_startend_datetime2config"
   ]
  },
  {
   "cell_type": "markdown",
   "id": "75658889",
   "metadata": {},
   "source": [
    "#### Load configuration file and make adjustements for this test case"
   ]
  },
  {
   "cell_type": "markdown",
   "id": "6828cbdd",
   "metadata": {},
   "source": []
  },
  {
   "cell_type": "code",
   "execution_count": null,
   "id": "6dbbad28",
   "metadata": {},
   "outputs": [],
   "source": [
    "config_file = \"../config/config_analysis.yml\"\n",
    "config = load_ymlfile(config_file, isconfigfile=True)\n",
    "# Make sure that the period for the cloud bands cover the same period as the example data\n",
    "config[\"startdate\"] = \"20210219.00\"\n",
    "config[\"enddate\"] = \"20210228.00\"\n",
    "config[\"saved_dirpath\"] = \"../data/\"\n",
    "\n",
    "print(\"Example data exists:\", os.path.isfile(config['saved_dirpath']+\"/list_of_cloud_bands\"+config['startdate']+\"-\"+config['enddate']+\"-\"+config['domain']+\".pickle\")) \n"
   ]
  },
  {
   "attachments": {},
   "cell_type": "markdown",
   "id": "b7d233e9",
   "metadata": {},
   "source": [
    "#### Load cloud bands from the South Pacific for the dates specified in the analyses config file"
   ]
  },
  {
   "cell_type": "code",
   "execution_count": null,
   "id": "3d42cc6a",
   "metadata": {},
   "outputs": [],
   "source": [
    "add_startend_datetime2config(config)\n",
    "listofdates = create_list_of_dates(config)\n",
    "print(str(len(listofdates))+\" dates created from \"+str(listofdates[0])+\" to \"+str(listofdates[-1]))"
   ]
  },
  {
   "cell_type": "code",
   "execution_count": null,
   "id": "993eefe4",
   "metadata": {},
   "outputs": [],
   "source": [
    "# Load one year of cloud bands\n",
    "print(config)\n",
    "list_of_cloud_bands = load_data_from_saved_var_files(config, varname=\"list_of_cloud_bands\")\n",
    "print(len(list_of_cloud_bands),\"days of cloud bands\")"
   ]
  },
  {
   "cell_type": "markdown",
   "id": "33ff6ebf",
   "metadata": {},
   "source": [
    "#### Import longitudes and latitudes for the map"
   ]
  },
  {
   "cell_type": "code",
   "execution_count": null,
   "id": "ad7ae9d2",
   "metadata": {},
   "outputs": [],
   "source": [
    "lats_globe = np.load(dir_package + \"data/lats_globe0.5_ERA5.npy\")\n",
    "lons_globe = np.load(dir_package + \"data/lons_globe0.5_ERA5.npy\")\n",
    "# Get longitudes and latitudes of South Pacific domain\n",
    "lon_ids = [id for id, el in enumerate(lons_globe) if el <= config[\"lon_east\"] if el >= config[\"lon_west\"]]\n",
    "lonsSP = lons_globe[lon_ids]\n",
    "lat_ids = [id for id, el in enumerate(lats_globe) if el <= config[\"lat_north\"] if el >= config[\"lat_south\"]]\n",
    "latsSP = lats_globe[lat_ids]\n",
    "print(f\"Longitudes, min: {lonsSP.min()}, max: {lonsSP.max()}\")\n",
    "print(f\"Latitudes, min: {latsSP.min()}, max: {latsSP.max()}\")"
   ]
  },
  {
   "cell_type": "markdown",
   "id": "cd405baa",
   "metadata": {},
   "source": [
    "#### Create the series of map with connection lines between the centroid lcoation of each cloud bands"
   ]
  },
  {
   "cell_type": "code",
   "execution_count": null,
   "id": "81cf75b6",
   "metadata": {},
   "outputs": [],
   "source": [
    "plot_tracking_on_map(\n",
    "    list_of_cloud_bands=list_of_cloud_bands,\n",
    "    lons=lonsSP,\n",
    "    lats=latsSP,\n",
    "    listofdates=listofdates,\n",
    "    config=config,\n",
    "    show=True,\n",
    "    save=False,\n",
    ")"
   ]
  }
 ],
 "metadata": {
  "kernelspec": {
   "display_name": "env_test",
   "language": "python",
   "name": "python3"
  },
  "language_info": {
   "codemirror_mode": {
    "name": "ipython",
    "version": 3
   },
   "file_extension": ".py",
   "mimetype": "text/x-python",
   "name": "python",
   "nbconvert_exporter": "python",
   "pygments_lexer": "ipython3",
   "version": "3.10.8"
  }
 },
 "nbformat": 4,
 "nbformat_minor": 5
}
